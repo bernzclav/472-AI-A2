{
 "cells": [
  {
   "cell_type": "markdown",
   "metadata": {},
   "source": [
    "# COMP 472 - Assignment 2\n",
    "\n",
    "### Bernard Claveau - 40065756 / Nicolas Eliopoulos - 40059378"
   ]
  },
  {
   "cell_type": "markdown",
   "metadata": {},
   "source": [
    "## Contents\n",
    "\n",
    "- [Imports](#Imports)\n",
    "    \n",
    "- [Puzzle Search](#Puzzle-Search)\n",
    "    - [State representation](#State-representation)\n",
    "    - [Successor function](#Successor-function)\n",
    "    - [Goal function](#Goal-function)\n",
    "    - [Solution path function](#Solution-path-function)\n",
    "    \n",
    "- [Heuristics](#Heuristics)\n",
    "    - [Heuristic 1 - Hamming Distance](#Heuristic-1---h1)\n",
    "    - [Heuristic 2 - Sum of Lowest Costs](#Heuristic-2---h2)\n",
    "    - [Heuristic 0](#Heuristic-0---h0-(for-demo))\n",
    "    \n",
    "- [Uniform-Cost Search (UCS)](#Uniform-Cost-Search-(UCS))\n",
    "    - [State representation](#State-representation-(UCS))\n",
    "    - [Successor function](#Successor-function-(UCS))\n",
    "    - [Algorithm](#Algorithm-(UCS))\n",
    "    \n",
    "- [Greedy Best-First Search (GBFS)](#Greedy-Best-First-Search-(GBFS))\n",
    "    - [State representation](#State-representation-(GBFS))\n",
    "    - [Successor function](#Successor-function-(GBFS))\n",
    "    - [Algorithm](#Algorithm-(GBFS))\n",
    "    \n",
    "- [Algorithm A*](#Algorithm-A*)\n",
    "    - [State representation](#State-representation-(A*))\n",
    "    - [Successor function](#Successor-function-(A*))\n",
    "    - [Algorithm](#Algorithm-(A*))\n",
    "    \n",
    "- [Functions](#Functions)\n",
    "    - [Write output to file](#Write-output-to-file)\n",
    "    - [Read puzzles from input file](#Read-puzzles-from-input-file)\n",
    "    - [Solve puzzle set](#Solve-puzzle-set)\n",
    "    - [Analyze search algorithm](#Analyze-search-algorithm)\n",
    "    - [Generate random puzzle set](#Generate-random-puzzle-set)\n",
    "    \n",
    "- [Output](#Output)\n",
    "    \n",
    "- [Analysis](#Analysis)\n",
    "\n",
    "- [Scaling Up](#Scaling-Up)\n",
    "\n",
    "- [Archive](#Archive)\n",
    "    "
   ]
  },
  {
   "cell_type": "markdown",
   "metadata": {},
   "source": [
    "## Imports"
   ]
  },
  {
   "cell_type": "code",
   "execution_count": 1,
   "metadata": {},
   "outputs": [],
   "source": [
    "from functools import total_ordering\n",
    "from heapq import heapify, heappop, heappush\n",
    "import time\n",
    "import random"
   ]
  },
  {
   "cell_type": "markdown",
   "metadata": {},
   "source": [
    "## Puzzle Search\n",
    "\n",
    "This section contains the implementation of classes and functions required for solving the X-puzzle and that are common to all three search algorithms."
   ]
  },
  {
   "cell_type": "markdown",
   "metadata": {},
   "source": [
    "### State representation\n",
    "\n",
    "This is the base node class that is extended by each algorithm implementation."
   ]
  },
  {
   "cell_type": "code",
   "execution_count": 2,
   "metadata": {},
   "outputs": [],
   "source": [
    "class Node:\n",
    "    def __init__(self, state, parent=None, move=0, cost=0, tile=0, seq=0):\n",
    "        self.state = state\n",
    "        self.parent = parent\n",
    "        self.move = move\n",
    "        self.cost = cost\n",
    "        self.seq = seq\n",
    "        self.tile = tile\n",
    "        \n",
    "        \n",
    "def tostr(state):\n",
    "    return ' '.join(map(str, state))"
   ]
  },
  {
   "cell_type": "markdown",
   "metadata": {},
   "source": [
    "### Successor function\n",
    "\n",
    "This function returns the list of successor nodes for a given node."
   ]
  },
  {
   "cell_type": "code",
   "execution_count": 3,
   "metadata": {},
   "outputs": [],
   "source": [
    "def successor(node, m, n):\n",
    "    state = node.state\n",
    "    i = state.index(0)\n",
    "    successors = []\n",
    "\n",
    "    # regular move: right\n",
    "    if (i + 1) % n != 0:\n",
    "        temp = state.copy()\n",
    "        temp[i], temp[i + 1] = temp[i + 1], temp[i]\n",
    "        successors.append(Node(temp, move=1, tile=temp[i]))\n",
    "    \n",
    "    # regular move: left\n",
    "    if i % n != 0:\n",
    "        temp = state.copy()\n",
    "        temp[i], temp[i - 1] = temp[i - 1], temp[i]\n",
    "        successors.append(Node(temp, move=1, tile=temp[i]))\n",
    "\n",
    "    # regular move: up\n",
    "    if i >= n:\n",
    "        temp = state.copy()\n",
    "        temp[i], temp[i - n] = temp[i - n], temp[i]\n",
    "        successors.append(Node(temp, move=1, tile=temp[i]))\n",
    "\n",
    "    # regular move: down\n",
    "    if i < m * n - n:\n",
    "        temp = state.copy()\n",
    "        temp[i], temp[i + n] = temp[i + n], temp[i]\n",
    "        successors.append(Node(temp, move=1, tile=temp[i]))\n",
    "\n",
    "    # wrap move: right\n",
    "    if (i + 1) % n == 0 and n > 2:\n",
    "        temp = state.copy()\n",
    "        temp[i], temp[i - n + 1] = temp[i - n + 1], temp[i]\n",
    "        successors.append(Node(temp, move=2, tile=temp[i]))\n",
    "        \n",
    "    # wrap move: left\n",
    "    if i % n == 0 and n > 2:\n",
    "        temp = state.copy()\n",
    "        temp[i], temp[i + n - 1] = temp[i + n - 1], temp[i]\n",
    "        successors.append(Node(temp, move=2, tile=temp[i]))\n",
    "        \n",
    "    # wrap move: up\n",
    "    if i < n and m > 2:\n",
    "        temp = state.copy()\n",
    "        temp[i], temp[i + n*(m - 1)] = temp[i + n*(m - 1)], temp[i]\n",
    "        successors.append(Node(temp, move=2, tile=temp[i]))\n",
    "    \n",
    "    # wrap move: down\n",
    "    if i >= m * n - n and m > 2:\n",
    "        temp = state.copy()\n",
    "        temp[i], temp[i - n*(m - 1)] = temp[i - n*(m - 1)], temp[i]\n",
    "        successors.append(Node(temp, move=2, tile=temp[i]))\n",
    "    \n",
    "    # diagonal move: top-left adjacent\n",
    "    if i == 0:\n",
    "        temp = state.copy()\n",
    "        temp[i], temp[n + 1] = temp[n + 1], temp[i]\n",
    "        successors.append(Node(temp, move=3, tile=temp[i]))\n",
    "    \n",
    "    # diagonal move: top-right adjacent\n",
    "    if i == n - 1:\n",
    "        temp = state.copy()\n",
    "        temp[i], temp[2*i] = temp[2*i], temp[i]\n",
    "        successors.append(Node(temp, move=3, tile=temp[i]))\n",
    "\n",
    "    # diagonal move: bottom-left adjacent\n",
    "    if i == m * n - n:\n",
    "        temp = state.copy()\n",
    "        temp[i], temp[i - n + 1] = temp[i - n + 1], temp[i]\n",
    "        successors.append(Node(temp, move=3, tile=temp[i]))\n",
    "        \n",
    "    # diagonal move: bottom-right adjacent\n",
    "    if i == m * n - 1:\n",
    "        temp = state.copy()\n",
    "        temp[i], temp[i - n - 1] = temp[i - n - 1], temp[i]\n",
    "        successors.append(Node(temp, move=3, tile=temp[i]))\n",
    "\n",
    "    # diagonal move: opposite\n",
    "    if (i == 0) or (i == n - 1) or (i == m * n - n) or (i == m * n - 1):\n",
    "        temp = state.copy()\n",
    "        temp[i], temp[n * m - i - 1] = temp[n * m - i - 1], temp[i]\n",
    "        successors.append(Node(temp, move=3, tile=temp[i]))\n",
    "\n",
    "    return successors"
   ]
  },
  {
   "cell_type": "markdown",
   "metadata": {},
   "source": [
    "### Goal function\n",
    "\n",
    "This function returns True if the given state matches one of the two possible goal states."
   ]
  },
  {
   "cell_type": "code",
   "execution_count": 4,
   "metadata": {
    "scrolled": true
   },
   "outputs": [],
   "source": [
    "def goal(state, m, n):\n",
    "    return state == goal1(m, n) or state == goal2(m, n)"
   ]
  },
  {
   "cell_type": "code",
   "execution_count": 5,
   "metadata": {},
   "outputs": [],
   "source": [
    "def goal1(m, n):\n",
    "    gs = []\n",
    "    \n",
    "    for i in range(1, m*n):\n",
    "        gs.append(i)\n",
    "    gs.append(0)\n",
    "    \n",
    "    return gs"
   ]
  },
  {
   "cell_type": "code",
   "execution_count": 6,
   "metadata": {},
   "outputs": [],
   "source": [
    "def goal2(m, n):\n",
    "    gs = [0] * m*n\n",
    "    tile = 1\n",
    "    \n",
    "    for i in range(n):\n",
    "        for j in range(m):\n",
    "            gs[j*n + i] = tile if tile < m*n else 0\n",
    "            tile += 1\n",
    "    \n",
    "    return gs"
   ]
  },
  {
   "cell_type": "markdown",
   "metadata": {},
   "source": [
    "### Solution path function\n",
    "\n",
    "This function traces the path from a goal state to the start state and returns the solution path."
   ]
  },
  {
   "cell_type": "code",
   "execution_count": 7,
   "metadata": {},
   "outputs": [],
   "source": [
    "def solution_path(node):\n",
    "    current = node\n",
    "    sol_path = [current]\n",
    "    while current.parent:\n",
    "        sol_path.append(current.parent)\n",
    "        current = current.parent\n",
    "    sol_path.reverse()\n",
    "    return sol_path"
   ]
  },
  {
   "cell_type": "markdown",
   "metadata": {},
   "source": [
    "## Heuristics\n",
    "\n",
    "We have chosen the following heuristics h<sub>1</sub> and h<sub>2</sub> to use for the Greedy Best-First Search and A* algorithms.<br>\n",
    "\n",
    "Heuristic h<sub>0</sub> is to be used for the demo input as described in the assignment handout."
   ]
  },
  {
   "cell_type": "markdown",
   "metadata": {},
   "source": [
    "### Heuristic 1 - h<sub>1</sub>\n",
    "\n",
    "#### Hamming Distance\n",
    "\n",
    "The Hamming distance is the number of tiles that are out of place. \n",
    "\n",
    "The heuristic funtion calculates this value for both versions of the goal state and returns the lower one."
   ]
  },
  {
   "cell_type": "code",
   "execution_count": 8,
   "metadata": {},
   "outputs": [],
   "source": [
    "def h1(state, m, n):\n",
    "    hd1 = 0\n",
    "    hd2 = 0\n",
    "    \n",
    "    for i in range(m*n - 1):\n",
    "        if state[i] != i + 1:\n",
    "            hd1 += 1\n",
    "       \n",
    "    tile = 1\n",
    "    for i in range(n):\n",
    "        for j in range(m):\n",
    "            if j*n + i != m*n - 1 and state[j*n + i] != tile:\n",
    "                hd2 += 1\n",
    "            tile += 1\n",
    "        \n",
    "    return min(hd1, hd2)"
   ]
  },
  {
   "cell_type": "markdown",
   "metadata": {},
   "source": [
    "### Heuristic 2 - h<sub>2</sub>\n",
    "\n",
    "#### Sum of Lowest Costs\n",
    "\n",
    "This heuristic is inspired by the Manhattan distance but takes into account **wrapping moves** and **diagonal moves**.\n",
    "\n",
    "For each tile, it calculates the lowest cost required to move the tile from its actual position to its goal position if there were no other tiles in the way. It then takes the sum of this cost for all the tiles.\n",
    "\n",
    "Again, the heuristic function calculates the sum of lowest costs for both versions of the goal state and returns the lower one."
   ]
  },
  {
   "cell_type": "code",
   "execution_count": 9,
   "metadata": {},
   "outputs": [],
   "source": [
    "def h2(state, m, n):\n",
    "    md1 = 0\n",
    "    md2 = 0\n",
    "    \n",
    "    for i in range(1, m*n):\n",
    "        current = state.index(i)\n",
    "        goal1 = i - 1\n",
    "        goal2 = n * ((i - 1) % m) + (i - 1) // m\n",
    "        \n",
    "        # horizontal distance\n",
    "        hd1 = abs(current % n - goal1 % n)\n",
    "        hd2 = abs(current % n - goal2 % n)\n",
    "        hw1 = n - hd1 + 1 \n",
    "        hw2 = n - hd2 + 1\n",
    "        \n",
    "        md1 += min(hd1, hw1)\n",
    "        md2 += min(hd2, hw2)\n",
    "        \n",
    "        # vertical distance\n",
    "        vd1 = abs(((current - current % n) - (goal1 - goal1 % n)) // n)\n",
    "        vd2 = abs(((current - current % n) - (goal2 - goal2 % n)) // n)\n",
    "        vw1 = m - vd1 + 1\n",
    "        vw2 = m - vd2 + 1\n",
    "        \n",
    "        md1 += min(vd1, vw1)\n",
    "        md2 += min(vd2, vw2)\n",
    "        \n",
    "        # decrement the cost if a diagonal can be taken\n",
    "        if hw1 <= hd1 and vw1 <= vd1:\n",
    "            md1 -= 1\n",
    "            \n",
    "        if hw2 <= hd2 and vw2 <= vd2:\n",
    "            md2 -= 1\n",
    "        \n",
    "    return min(md1, md2)"
   ]
  },
  {
   "cell_type": "markdown",
   "metadata": {},
   "source": [
    "### Heuristic 0 - h<sub>0</sub> (for demo)\n",
    "\n",
    "The heuristic h<sub>0</sub> is given in the assignment handout and returns 0 for any state with the empty tile (0) in the bottom right corner, and 1 otherwise."
   ]
  },
  {
   "cell_type": "code",
   "execution_count": 10,
   "metadata": {},
   "outputs": [],
   "source": [
    "def h0(state, m, n):\n",
    "    if(state.index(0) == m*n - 1):\n",
    "        return 0\n",
    "    else:\n",
    "        return 1"
   ]
  },
  {
   "cell_type": "markdown",
   "metadata": {},
   "source": [
    "## Uniform-Cost Search (UCS)"
   ]
  },
  {
   "cell_type": "markdown",
   "metadata": {},
   "source": [
    "### State representation (UCS)"
   ]
  },
  {
   "cell_type": "code",
   "execution_count": 11,
   "metadata": {},
   "outputs": [],
   "source": [
    "@total_ordering\n",
    "class UCSNode(Node):\n",
    "    \n",
    "    def __init__(self, state, parent=None, move=0, cost=0, tile=0, seq=0):\n",
    "        Node.__init__(self, state, parent, move, cost, tile, seq)\n",
    "\n",
    "    def __lt__(self, other):\n",
    "        return self.cost < other.cost or (self.cost == other.cost and self.seq < other.seq)"
   ]
  },
  {
   "cell_type": "markdown",
   "metadata": {},
   "source": [
    "### Successor function (UCS)"
   ]
  },
  {
   "cell_type": "code",
   "execution_count": 12,
   "metadata": {},
   "outputs": [],
   "source": [
    "def ucs_successor(node, m, n, seq):\n",
    "    successors = successor(node, m, n)\n",
    "    ucs_nodes = []\n",
    "    for child in successors:\n",
    "        ucs_nodes.append(UCSNode(child.state, node, child.move, node.cost + child.move, child.tile, seq))\n",
    "        seq += 1\n",
    "    return ucs_nodes"
   ]
  },
  {
   "cell_type": "markdown",
   "metadata": {},
   "source": [
    "### Algorithm (UCS)"
   ]
  },
  {
   "cell_type": "code",
   "execution_count": 13,
   "metadata": {},
   "outputs": [],
   "source": [
    "def ucs(puzzle, m, n, timeout=True):\n",
    "    start = time.time()\n",
    "    opened = []\n",
    "    closed = []\n",
    "    open_set = set()\n",
    "    closed_set = set()\n",
    "    seq = 0\n",
    "    \n",
    "    heappush(opened, UCSNode(puzzle, seq=seq))\n",
    "    seq += 1\n",
    "    open_set.add(tostr(puzzle))\n",
    "\n",
    "    while opened:\n",
    "        if timeout and time.time() - start > 60:\n",
    "            print('UCS timed out after 60 seconds on puzzle', puzzle)\n",
    "            return None, closed, 60\n",
    "        \n",
    "        current = heappop(opened)\n",
    "        while current.state == -1:\n",
    "            current = heappop(opened)\n",
    "            \n",
    "        closed.append(current)\n",
    "        \n",
    "        open_set.remove(tostr(current.state))\n",
    "        closed_set.add(tostr(current.state))\n",
    "        \n",
    "        if goal(current.state, m, n):\n",
    "            t = round(time.time() - start, 5)\n",
    "            print('UCS found solution for', puzzle, 'with cost', current.cost, 'in', t, 'seconds')\n",
    "            return solution_path(current), closed, t\n",
    "        \n",
    "        children = ucs_successor(current, m, n, seq)\n",
    "        for i in children:\n",
    "            seq += 1\n",
    "            i_state = tostr(i.state)\n",
    "            \n",
    "            if i_state in closed_set:\n",
    "                continue\n",
    "\n",
    "            if i_state in open_set:\n",
    "                existing = next(x for x in opened if x.state == i.state)\n",
    "                if i < existing:\n",
    "                    existing.state = -1\n",
    "                    heappush(opened, i)\n",
    "                continue\n",
    "    \n",
    "            heappush(opened, i)\n",
    "            open_set.add(i_state)\n",
    "                \n",
    "    t = round(time.time() - start, 5)\n",
    "    print('UCS exhausted every path in', t, 'seconds without finding a solution')\n",
    "    return None, closed, t"
   ]
  },
  {
   "cell_type": "markdown",
   "metadata": {},
   "source": [
    "## Greedy Best-First Search (GBFS)"
   ]
  },
  {
   "cell_type": "markdown",
   "metadata": {},
   "source": [
    "### State representation (GBFS)"
   ]
  },
  {
   "cell_type": "code",
   "execution_count": 14,
   "metadata": {},
   "outputs": [],
   "source": [
    "@total_ordering\n",
    "class GBFSNode:\n",
    "    def __init__(self, state, parent=None, move=0, cost=0, h=0, tile=0, seq=0):\n",
    "        Node.__init__(self, state, parent, move, cost, tile, seq)\n",
    "        self.h = h\n",
    "\n",
    "    def __lt__(self, other):\n",
    "        return self.h < other.h or (self.h == other.h and self.seq < other.seq)\n",
    "    "
   ]
  },
  {
   "cell_type": "markdown",
   "metadata": {},
   "source": [
    "### Successor function (GBFS)"
   ]
  },
  {
   "cell_type": "code",
   "execution_count": 15,
   "metadata": {},
   "outputs": [],
   "source": [
    "def gbfs_successor(node, m, n, seq, heuristic):\n",
    "    successors = successor(node, m, n)\n",
    "    gbfs_nodes = []\n",
    "    for child in successors:\n",
    "        h = heuristic(child.state, m, n)\n",
    "        gbfs_nodes.append(GBFSNode(child.state, node, child.move, node.cost + child.move, h, child.tile, seq))\n",
    "        seq += 1\n",
    "    return gbfs_nodes"
   ]
  },
  {
   "cell_type": "markdown",
   "metadata": {},
   "source": [
    "### Algorithm (GBFS)"
   ]
  },
  {
   "cell_type": "code",
   "execution_count": 16,
   "metadata": {},
   "outputs": [],
   "source": [
    "def gbfs(puzzle, m , n, heuristic, timeout=True):\n",
    "    start = time.time()\n",
    "    opened = []\n",
    "    closed = []\n",
    "    open_set = set()\n",
    "    closed_set = set()\n",
    "    seq = 0\n",
    "    \n",
    "    heappush(opened, GBFSNode(puzzle, h=heuristic(puzzle, m, n), seq=seq))\n",
    "    seq += 1\n",
    "    open_set.add(tostr(puzzle))\n",
    "\n",
    "    while opened:\n",
    "        if timeout and time.time() - start > 60:\n",
    "            print('GBFS', heuristic.__name__, 'timed out after 60 seconds on puzzle', puzzle)\n",
    "            return None, closed, 60\n",
    "        \n",
    "        current = heappop(opened)\n",
    "        closed.append(current)\n",
    "        \n",
    "        open_set.remove(tostr(current.state))\n",
    "        closed_set.add(tostr(current.state))\n",
    "        \n",
    "        if goal(current.state, m, n):\n",
    "            t = round(time.time() - start, 5)\n",
    "            print('GBFS', heuristic.__name__, 'found solution for', puzzle, 'with cost', current.cost, 'in', t, 'seconds')\n",
    "            return solution_path(current), closed, t\n",
    "        \n",
    "        children = gbfs_successor(current, m, n, seq, heuristic)\n",
    "        for i in children:\n",
    "            seq += 1\n",
    "            i_state = tostr(i.state)  \n",
    "            \n",
    "            if i_state in open_set or i_state in closed_set:\n",
    "                continue\n",
    "            \n",
    "            heappush(opened, i)\n",
    "            open_set.add(i_state)\n",
    "                \n",
    "    t = round(time.time() - start, 5)\n",
    "    print('GBFS exhausted every path in', t, 'seconds without finding a solution')\n",
    "    return None, closed, t"
   ]
  },
  {
   "cell_type": "markdown",
   "metadata": {},
   "source": [
    "## Algorithm A*"
   ]
  },
  {
   "cell_type": "markdown",
   "metadata": {},
   "source": [
    "### State representation (A*)"
   ]
  },
  {
   "cell_type": "code",
   "execution_count": 17,
   "metadata": {},
   "outputs": [],
   "source": [
    "@total_ordering\n",
    "class ANode:\n",
    "    def __init__(self, state, parent=None, move=0, cost=0, h=0, tile=0, seq=0):\n",
    "        Node.__init__(self, state, parent, move, cost, tile, seq)\n",
    "        self.h = h\n",
    "\n",
    "    def __lt__(self, other):\n",
    "        return self.h + self.cost < other.h + other.cost or (\n",
    "                    self.h + self.cost == other.h + other.cost and self.seq < other.seq)"
   ]
  },
  {
   "cell_type": "markdown",
   "metadata": {},
   "source": [
    "### Successor function (A*)"
   ]
  },
  {
   "cell_type": "code",
   "execution_count": 18,
   "metadata": {},
   "outputs": [],
   "source": [
    "def a_star_successor(node, m, n, seq, heuristic):\n",
    "    successors = successor(node, m, n)\n",
    "    a_nodes = []\n",
    "    for child in successors:\n",
    "        h = heuristic(child.state, m, n)\n",
    "        a_nodes.append(ANode(child.state, node, child.move, node.cost + child.move, h, child.tile, seq))\n",
    "        seq += 1\n",
    "    return a_nodes"
   ]
  },
  {
   "cell_type": "markdown",
   "metadata": {},
   "source": [
    "### Algorithm (A*)"
   ]
  },
  {
   "cell_type": "code",
   "execution_count": 63,
   "metadata": {},
   "outputs": [],
   "source": [
    "def a_star(puzzle, m, n, heuristic, timeout=True):\n",
    "    start = time.time()\n",
    "    opened = []\n",
    "    closed = []\n",
    "    open_set = set()\n",
    "    closed_set = set()\n",
    "    seq = 0\n",
    "    \n",
    "    heappush(opened, ANode(puzzle, h=heuristic(puzzle, m, n), seq=seq))\n",
    "    seq += 1\n",
    "    open_set.add(tostr(puzzle))\n",
    "\n",
    "    while opened:\n",
    "        if timeout and time.time() - start > 60:\n",
    "            print('A*', heuristic.__name__, ' timed out after 60 seconds on puzzle', puzzle)\n",
    "            return None, closed, 60\n",
    "        \n",
    "        current = heappop(opened)\n",
    "        while current.state == -1:\n",
    "            current = heappop(opened)\n",
    "            \n",
    "        closed.append(current)\n",
    "        \n",
    "        open_set.remove(tostr(current.state))\n",
    "        closed_set.add(tostr(current.state))\n",
    "        \n",
    "        if goal(current.state, m, n):\n",
    "            t = round(time.time() - start, 5)\n",
    "            print('A*', heuristic.__name__, 'found solution for', puzzle, 'with cost', current.cost, 'in', t, 'seconds')\n",
    "            return solution_path(current), closed, t\n",
    "        \n",
    "        children = a_star_successor(current, m, n, seq, heuristic)\n",
    "        for i in children:\n",
    "            seq += 1\n",
    "            i_state = tostr(i.state)\n",
    "\n",
    "            if i_state in closed_set:\n",
    "                existing = next(x for x in closed if x.state == i.state and x.seq != -1)\n",
    "                if i < existing:\n",
    "                    existing.seq = -1\n",
    "                    closed_set.remove(tostr(existing.state))\n",
    "                    heappush(opened, i)\n",
    "                    open_set.add(i_state)\n",
    "                continue\n",
    "\n",
    "            if i_state in open_set:\n",
    "                existing = next(x for x in opened if x.state == i.state)\n",
    "                if i < existing:\n",
    "                    existing.state = -1\n",
    "                    heappush(opened, i)\n",
    "                continue\n",
    "    \n",
    "            heappush(opened, i)\n",
    "            open_set.add(i_state)\n",
    "                \n",
    "    t = round(time.time() - start, 5)\n",
    "    print('A* exhausted every path in', t, 'seconds without finding a solution')\n",
    "    return None, closed, t"
   ]
  },
  {
   "cell_type": "markdown",
   "metadata": {},
   "source": [
    "## Functions\n",
    "\n",
    "This section contains the important functions used in the [Output](#Output), [Analysis](#Analysis), and [Scaling Up](#Scaling-Up) sections."
   ]
  },
  {
   "cell_type": "markdown",
   "metadata": {},
   "source": [
    "#### Write output to file\n",
    "\n",
    "These functions write the output of a search algorithm to a file."
   ]
  },
  {
   "cell_type": "code",
   "execution_count": 20,
   "metadata": {},
   "outputs": [],
   "source": [
    "def write_sol_path(file_path, sol_path, time):\n",
    "    with open(file_path, 'w') as f:\n",
    "        if not sol_path:\n",
    "            f.write('no solution')\n",
    "        else:\n",
    "            for node in sol_path:\n",
    "                f.write(str(node.tile) + ' ' + str(node.move))\n",
    "                for i in node.state:\n",
    "                    f.write(' ' + str(i))\n",
    "                f.write('\\n')\n",
    "            f.write(str(sol_path[-1].cost) + ' ' + str(time))    "
   ]
  },
  {
   "cell_type": "code",
   "execution_count": 21,
   "metadata": {},
   "outputs": [],
   "source": [
    "def write_search_path_ucs(file_path, search_path, sol):\n",
    "    with open(file_path, 'w') as f:\n",
    "        if not sol:\n",
    "            f.write('no solution')\n",
    "        else:\n",
    "            for node in search_path:\n",
    "                f.write('0 ' + str(node.cost) + ' 0')\n",
    "                for i in node.state:\n",
    "                    f.write(' ' + str(i))\n",
    "                f.write('\\n')"
   ]
  },
  {
   "cell_type": "code",
   "execution_count": 22,
   "metadata": {},
   "outputs": [],
   "source": [
    "def write_search_path_gbfs(file_path, search_path, sol):\n",
    "    with open(file_path, 'w') as f:\n",
    "        if not sol:\n",
    "            f.write('no solution')\n",
    "        else:\n",
    "            for node in search_path:\n",
    "                f.write('0 0 ' + str(node.h))\n",
    "                for i in node.state:\n",
    "                    f.write(' ' + str(i))\n",
    "                f.write('\\n')"
   ]
  },
  {
   "cell_type": "code",
   "execution_count": 23,
   "metadata": {},
   "outputs": [],
   "source": [
    "def write_search_path_astar(file_path, search_path, sol):\n",
    "    with open(file_path, 'w') as f:\n",
    "        if not sol:\n",
    "            f.write('no solution')\n",
    "        else:\n",
    "            for node in search_path:\n",
    "                f.write(str(node.cost + node.h) + ' ' + str(node.cost) + ' ' + str(node.h))\n",
    "                for i in node.state:\n",
    "                    f.write(' ' + str(i))\n",
    "                f.write('\\n')  "
   ]
  },
  {
   "cell_type": "markdown",
   "metadata": {},
   "source": [
    "#### Read puzzles from input file\n",
    "\n",
    "This function reads an input file of puzzles and returns them in the format used by the algorithms."
   ]
  },
  {
   "cell_type": "code",
   "execution_count": 24,
   "metadata": {},
   "outputs": [],
   "source": [
    "def get_puzzle_set(file_name):\n",
    "    puzzle_set = []\n",
    "\n",
    "    with open(file_name, 'r') as sample_puzzles:\n",
    "        line = sample_puzzles.readline()\n",
    "        while line:\n",
    "            puzzle_set.append([int(x) for x in line.split()])\n",
    "            line = sample_puzzles.readline()\n",
    "    \n",
    "    return puzzle_set"
   ]
  },
  {
   "cell_type": "markdown",
   "metadata": {},
   "source": [
    "#### Solve puzzle set\n",
    "\n",
    "This function runs the five search aglorithms on all puzzles in a puzzle set and writes the results to corresponding output files."
   ]
  },
  {
   "cell_type": "code",
   "execution_count": 25,
   "metadata": {
    "scrolled": true
   },
   "outputs": [],
   "source": [
    "def solve_puzzle_set(puzzle_set, m, n, folder):   \n",
    "    for i, puzzle in enumerate(puzzle_set):\n",
    "        num = str(i)\n",
    "\n",
    "        # UCS\n",
    "        sol, search, t = ucs(puzzle, m, n)\n",
    "\n",
    "        write_sol_path(folder + '/' + num + '_ucs_solution.txt', sol, t)\n",
    "        write_search_path_ucs(folder + '/' + num + '_ucs_search.txt', search, sol)\n",
    "\n",
    "        # GBFS with h1\n",
    "        sol, search, t = gbfs(puzzle, m, n, h1)\n",
    "\n",
    "        write_sol_path(folder + '/' + num + '_gbfs-h1_solution.txt', sol, t)\n",
    "        write_search_path_gbfs(folder + '/' + num + '_gbfs-h1_search.txt', search, sol)\n",
    "\n",
    "        # GBFS with h2\n",
    "        sol, search, t = gbfs(puzzle, m, n, h2)\n",
    "\n",
    "        write_sol_path(folder + '/' + num + '_gbfs-h2_solution.txt', sol, t)\n",
    "        write_search_path_gbfs(folder + '/' + num + '_gbfs-h2_search.txt', search, sol)\n",
    "\n",
    "        # A* with h1\n",
    "        sol, search, t = a_star(puzzle, m, n, h1)\n",
    "\n",
    "        write_sol_path(folder + '/' + num + '_astar-h1_solution.txt', sol, t)\n",
    "        write_search_path_astar(folder + '/' + num + '_astar-h1_search.txt', search, sol)\n",
    "\n",
    "        # A* with h2\n",
    "        sol, search, t = a_star(puzzle, m, n, h2)\n",
    "\n",
    "        write_sol_path(folder + '/' + num + '_astar-h2_solution.txt', sol, t)\n",
    "        write_search_path_astar(folder + '/' + num + '_astar-h2_search.txt', search, sol)"
   ]
  },
  {
   "cell_type": "markdown",
   "metadata": {},
   "source": [
    "#### Analyze search algorithm\n",
    "\n",
    "This function runs a search algorithm on a puzzle set and then computes and displays a set of metrics."
   ]
  },
  {
   "cell_type": "code",
   "execution_count": 36,
   "metadata": {},
   "outputs": [],
   "source": [
    "def analyze(algorithm, puzzle_set, m, n, h=None, timeout=True):\n",
    "    sol_len = 0\n",
    "    search_len = 0\n",
    "    cost = 0\n",
    "    no_sol = 0\n",
    "    exec_time = 0\n",
    "    \n",
    "    for puzzle in puzzle_set:\n",
    "        sol, search, t = algorithm(puzzle, m, n, h, timeout=timeout) if h else algorithm(puzzle, m, n, timeout=timeout)\n",
    "        \n",
    "        if sol:\n",
    "            exec_time += t\n",
    "            sol_len += len(sol)\n",
    "            search_len += len(search)\n",
    "            cost += sol[-1].cost\n",
    "        else:\n",
    "            no_sol += 1\n",
    "    \n",
    "    solves = len(puzzle_set) - no_sol\n",
    "    \n",
    "    print('ANALYSIS OF', algorithm.__name__.upper(), 'WITH ' + h.__name__.upper() if h else '')\n",
    "    print()\n",
    "    print('Average length of solution path:', round(sol_len / solves, 2))\n",
    "    print('Total length of solution path:', sol_len)\n",
    "    print()\n",
    "    print('Average length of search path:', round(search_len / solves, 2))\n",
    "    print('Total length of search path:', search_len)\n",
    "    print()\n",
    "    print('Average cost:', round(cost / solves, 2))\n",
    "    print('Total cost:', cost)\n",
    "    print()\n",
    "    print('Rate of no solution:', round(no_sol / len(puzzle_set), 3))\n",
    "    print('Total number of no solution', no_sol)\n",
    "    print()\n",
    "    print('Average execution time:', round(exec_time / solves, 5))\n",
    "    print('Total execution time:', exec_time)"
   ]
  },
  {
   "cell_type": "markdown",
   "metadata": {},
   "source": [
    "#### Generate random puzzle set\n",
    "\n",
    "This function generates a random set of puzzles."
   ]
  },
  {
   "cell_type": "code",
   "execution_count": 27,
   "metadata": {},
   "outputs": [],
   "source": [
    "def random_puzzle_set(m, n, num, file_path=None):\n",
    "    gs1 = goal1(m, n)\n",
    "    gs2 = goal2(m, n)\n",
    "    puzzle_set = []\n",
    "    \n",
    "    while len(puzzle_set) < num // 2:\n",
    "        p = gs1.copy()\n",
    "        random.shuffle(p)\n",
    "        if p != gs1 and p != gs2 and p not in puzzle_set:\n",
    "            puzzle_set.append(p)\n",
    "        \n",
    "    while len(puzzle_set) < num:\n",
    "        p = gs2.copy()\n",
    "        random.shuffle(p)\n",
    "        if p != gs1 and p != gs2 and p not in puzzle_set:\n",
    "            puzzle_set.append(p)\n",
    "\n",
    "    if file_path:\n",
    "        with open(file_path, 'w') as f:\n",
    "            for puzzle in puzzle_set:\n",
    "                f.write(tostr(puzzle) + '\\n')\n",
    "            \n",
    "    return puzzle_set"
   ]
  },
  {
   "cell_type": "markdown",
   "metadata": {},
   "source": [
    "## Output"
   ]
  },
  {
   "cell_type": "code",
   "execution_count": 34,
   "metadata": {},
   "outputs": [
    {
     "name": "stdout",
     "output_type": "stream",
     "text": [
      "UCS found solution for [3, 0, 1, 4, 2, 6, 5, 7] with cost 13 in 9.22443 seconds\n",
      "GBFS h1 found solution for [3, 0, 1, 4, 2, 6, 5, 7] with cost 17 in 0.00299 seconds\n",
      "GBFS h2 found solution for [3, 0, 1, 4, 2, 6, 5, 7] with cost 24 in 0.01595 seconds\n",
      "A* h1 found solution for [3, 0, 1, 4, 2, 6, 5, 7] with cost 13 in 0.07822 seconds\n",
      "A* h2 found solution for [3, 0, 1, 4, 2, 6, 5, 7] with cost 13 in 0.02294 seconds\n",
      "UCS found solution for [6, 3, 4, 7, 1, 2, 5, 0] with cost 12 in 8.80787 seconds\n",
      "GBFS h1 found solution for [6, 3, 4, 7, 1, 2, 5, 0] with cost 40 in 0.00399 seconds\n",
      "GBFS h2 found solution for [6, 3, 4, 7, 1, 2, 5, 0] with cost 18 in 0.00499 seconds\n",
      "A* h1 found solution for [6, 3, 4, 7, 1, 2, 5, 0] with cost 12 in 0.02593 seconds\n",
      "A* h2 found solution for [6, 3, 4, 7, 1, 2, 5, 0] with cost 12 in 0.00997 seconds\n",
      "UCS found solution for [1, 0, 3, 6, 5, 2, 7, 4] with cost 9 in 0.20941 seconds\n",
      "GBFS h1 found solution for [1, 0, 3, 6, 5, 2, 7, 4] with cost 17 in 0.00399 seconds\n",
      "GBFS h2 found solution for [1, 0, 3, 6, 5, 2, 7, 4] with cost 20 in 0.00997 seconds\n",
      "A* h1 found solution for [1, 0, 3, 6, 5, 2, 7, 4] with cost 9 in 0.01196 seconds\n",
      "A* h2 found solution for [1, 0, 3, 6, 5, 2, 7, 4] with cost 9 in 0.01097 seconds\n"
     ]
    }
   ],
   "source": [
    "# Read input file from moodle\n",
    "input_set = get_puzzle_set('samplePuzzles.txt')\n",
    "\n",
    "# Sovle puzzle set and write output to files\n",
    "solve_puzzle_set(input_set, 2, 4, )"
   ]
  },
  {
   "cell_type": "markdown",
   "metadata": {},
   "source": [
    "## Analysis"
   ]
  },
  {
   "cell_type": "code",
   "execution_count": 35,
   "metadata": {},
   "outputs": [],
   "source": [
    "# Generate a puzzle set of 50 random puzzles (2x4)\n",
    "random_puzzle_set(2, 4, 50, 'analysis/analysis_set_2x4.txt')\n",
    "\n",
    "analysis_set = get_puzzle_set('analysis/analysis_set_2x4.txt')"
   ]
  },
  {
   "cell_type": "code",
   "execution_count": 37,
   "metadata": {},
   "outputs": [
    {
     "name": "stdout",
     "output_type": "stream",
     "text": [
      "UCS found solution for [2, 0, 5, 6, 1, 3, 4, 7] with cost 13 in 9.7876 seconds\n",
      "UCS found solution for [0, 2, 1, 4, 3, 6, 5, 7] with cost 14 in 22.20186 seconds\n",
      "UCS found solution for [4, 6, 5, 2, 1, 3, 7, 0] with cost 14 in 31.1036 seconds\n",
      "UCS found solution for [6, 4, 3, 2, 1, 7, 0, 5] with cost 13 in 14.91904 seconds\n",
      "UCS found solution for [6, 7, 3, 2, 0, 1, 5, 4] with cost 13 in 7.61595 seconds\n",
      "UCS found solution for [1, 3, 6, 4, 5, 7, 2, 0] with cost 14 in 32.40468 seconds\n",
      "UCS found solution for [7, 6, 0, 1, 2, 4, 5, 3] with cost 15 in 53.98124 seconds\n",
      "UCS timed out after 60 seconds on puzzle [7, 5, 3, 2, 1, 0, 4, 6]\n",
      "UCS found solution for [2, 0, 1, 4, 7, 5, 3, 6] with cost 13 in 9.78554 seconds\n",
      "UCS timed out after 60 seconds on puzzle [6, 4, 3, 1, 7, 5, 0, 2]\n",
      "UCS found solution for [5, 4, 0, 3, 1, 2, 6, 7] with cost 9 in 0.07081 seconds\n",
      "UCS found solution for [0, 2, 1, 5, 3, 4, 7, 6] with cost 13 in 13.53286 seconds\n",
      "UCS found solution for [2, 4, 5, 3, 7, 1, 6, 0] with cost 14 in 16.59822 seconds\n",
      "UCS found solution for [2, 1, 3, 5, 6, 0, 7, 4] with cost 10 in 0.11416 seconds\n",
      "UCS timed out after 60 seconds on puzzle [3, 7, 2, 4, 6, 0, 5, 1]\n",
      "UCS found solution for [1, 5, 6, 3, 4, 2, 7, 0] with cost 12 in 2.44619 seconds\n",
      "UCS found solution for [0, 5, 4, 7, 6, 3, 2, 1] with cost 14 in 25.64925 seconds\n",
      "UCS found solution for [5, 3, 2, 7, 0, 1, 6, 4] with cost 13 in 10.59698 seconds\n",
      "UCS timed out after 60 seconds on puzzle [6, 4, 2, 5, 3, 1, 0, 7]\n",
      "UCS found solution for [1, 4, 6, 7, 0, 5, 3, 2] with cost 11 in 0.45778 seconds\n",
      "UCS found solution for [5, 3, 0, 1, 6, 4, 2, 7] with cost 13 in 14.62847 seconds\n",
      "UCS timed out after 60 seconds on puzzle [0, 5, 3, 6, 7, 1, 2, 4]\n",
      "UCS found solution for [4, 3, 0, 1, 7, 2, 6, 5] with cost 12 in 4.05595 seconds\n",
      "UCS found solution for [1, 4, 6, 3, 7, 2, 0, 5] with cost 10 in 0.22487 seconds\n",
      "UCS found solution for [6, 2, 3, 4, 0, 1, 7, 5] with cost 7 in 0.00698 seconds\n",
      "UCS found solution for [0, 1, 3, 7, 2, 5, 4, 6] with cost 12 in 2.45787 seconds\n",
      "UCS found solution for [5, 6, 2, 4, 0, 3, 1, 7] with cost 15 in 53.79993 seconds\n",
      "UCS found solution for [0, 6, 5, 7, 1, 4, 3, 2] with cost 14 in 42.77404 seconds\n",
      "UCS found solution for [0, 2, 1, 3, 5, 6, 7, 4] with cost 12 in 2.1965 seconds\n",
      "UCS found solution for [7, 0, 4, 1, 2, 5, 3, 6] with cost 13 in 10.94966 seconds\n",
      "UCS found solution for [2, 7, 4, 5, 1, 0, 6, 3] with cost 13 in 24.89994 seconds\n",
      "UCS found solution for [1, 5, 0, 7, 3, 6, 4, 2] with cost 11 in 1.90824 seconds\n",
      "UCS timed out after 60 seconds on puzzle [7, 1, 4, 6, 3, 0, 5, 2]\n",
      "UCS found solution for [7, 6, 2, 3, 5, 0, 1, 4] with cost 15 in 54.32812 seconds\n",
      "UCS timed out after 60 seconds on puzzle [7, 6, 3, 2, 5, 4, 1, 0]\n",
      "UCS found solution for [3, 7, 2, 0, 1, 5, 4, 6] with cost 12 in 1.74479 seconds\n",
      "UCS timed out after 60 seconds on puzzle [3, 1, 2, 4, 0, 7, 6, 5]\n",
      "UCS found solution for [2, 6, 1, 4, 3, 5, 7, 0] with cost 14 in 37.15073 seconds\n",
      "UCS found solution for [4, 2, 6, 0, 7, 5, 1, 3] with cost 14 in 39.81128 seconds\n",
      "UCS found solution for [0, 2, 3, 4, 7, 5, 6, 1] with cost 8 in 0.02593 seconds\n",
      "UCS timed out after 60 seconds on puzzle [0, 2, 5, 3, 4, 7, 1, 6]\n",
      "UCS found solution for [7, 1, 2, 4, 6, 3, 5, 0] with cost 12 in 4.34578 seconds\n",
      "UCS timed out after 60 seconds on puzzle [6, 4, 2, 0, 3, 5, 1, 7]\n",
      "UCS found solution for [2, 3, 4, 5, 7, 6, 1, 0] with cost 14 in 23.07233 seconds\n",
      "UCS found solution for [0, 4, 5, 7, 3, 6, 2, 1] with cost 10 in 0.23238 seconds\n",
      "UCS found solution for [5, 2, 6, 3, 4, 1, 7, 0] with cost 12 in 3.20562 seconds\n",
      "UCS found solution for [7, 6, 0, 2, 5, 3, 1, 4] with cost 13 in 17.35725 seconds\n",
      "UCS found solution for [1, 2, 5, 3, 4, 7, 0, 6] with cost 12 in 4.36701 seconds\n",
      "UCS timed out after 60 seconds on puzzle [2, 4, 5, 6, 1, 0, 3, 7]\n",
      "UCS found solution for [3, 7, 5, 0, 1, 2, 4, 6] with cost 12 in 3.15411 seconds\n",
      "ANALYSIS OF UCS \n",
      "\n",
      "Average length of solution path: 10.54\n",
      "Total length of solution path: 411\n",
      "\n",
      "Average length of search path: 9560.67\n",
      "Total length of search path: 372866\n",
      "\n",
      "Average cost: 12.44\n",
      "Total cost: 485\n",
      "\n",
      "Rate of no solution: 0.22\n",
      "Total number of no solution 11\n",
      "\n",
      "Average execution time: 15.3324\n",
      "Total execution time: 597.9635400000001\n"
     ]
    }
   ],
   "source": [
    "analyze(ucs, analysis_set, 2, 4)"
   ]
  },
  {
   "cell_type": "code",
   "execution_count": 38,
   "metadata": {},
   "outputs": [
    {
     "name": "stdout",
     "output_type": "stream",
     "text": [
      "GBFS h1 found solution for [2, 0, 5, 6, 1, 3, 4, 7] with cost 14 in 0.001 seconds\n",
      "GBFS h1 found solution for [0, 2, 1, 4, 3, 6, 5, 7] with cost 29 in 0.00698 seconds\n",
      "GBFS h1 found solution for [4, 6, 5, 2, 1, 3, 7, 0] with cost 30 in 0.00798 seconds\n",
      "GBFS h1 found solution for [6, 4, 3, 2, 1, 7, 0, 5] with cost 31 in 0.00402 seconds\n",
      "GBFS h1 found solution for [6, 7, 3, 2, 0, 1, 5, 4] with cost 35 in 0.00702 seconds\n",
      "GBFS h1 found solution for [1, 3, 6, 4, 5, 7, 2, 0] with cost 30 in 0.01097 seconds\n",
      "GBFS h1 found solution for [7, 6, 0, 1, 2, 4, 5, 3] with cost 41 in 0.00798 seconds\n",
      "GBFS h1 found solution for [7, 5, 3, 2, 1, 0, 4, 6] with cost 25 in 0.00399 seconds\n",
      "GBFS h1 found solution for [2, 0, 1, 4, 7, 5, 3, 6] with cost 27 in 0.001 seconds\n",
      "GBFS h1 found solution for [6, 4, 3, 1, 7, 5, 0, 2] with cost 33 in 0.00299 seconds\n",
      "GBFS h1 found solution for [5, 4, 0, 3, 1, 2, 6, 7] with cost 18 in 0.002 seconds\n",
      "GBFS h1 found solution for [0, 2, 1, 5, 3, 4, 7, 6] with cost 36 in 0.00399 seconds\n",
      "GBFS h1 found solution for [2, 4, 5, 3, 7, 1, 6, 0] with cost 22 in 0.00199 seconds\n",
      "GBFS h1 found solution for [2, 1, 3, 5, 6, 0, 7, 4] with cost 14 in 0.00199 seconds\n",
      "GBFS h1 found solution for [3, 7, 2, 4, 6, 0, 5, 1] with cost 33 in 0.00199 seconds\n",
      "GBFS h1 found solution for [1, 5, 6, 3, 4, 2, 7, 0] with cost 29 in 0.00299 seconds\n",
      "GBFS h1 found solution for [0, 5, 4, 7, 6, 3, 2, 1] with cost 15 in 0.0 seconds\n",
      "GBFS h1 found solution for [5, 3, 2, 7, 0, 1, 6, 4] with cost 25 in 0.00199 seconds\n",
      "GBFS h1 found solution for [6, 4, 2, 5, 3, 1, 0, 7] with cost 36 in 0.00199 seconds\n",
      "GBFS h1 found solution for [1, 4, 6, 7, 0, 5, 3, 2] with cost 11 in 0.00399 seconds\n",
      "GBFS h1 found solution for [5, 3, 0, 1, 6, 4, 2, 7] with cost 35 in 0.00598 seconds\n",
      "GBFS h1 found solution for [0, 5, 3, 6, 7, 1, 2, 4] with cost 38 in 0.00698 seconds\n",
      "GBFS h1 found solution for [4, 3, 0, 1, 7, 2, 6, 5] with cost 27 in 0.00199 seconds\n",
      "GBFS h1 found solution for [1, 4, 6, 3, 7, 2, 0, 5] with cost 15 in 0.001 seconds\n",
      "GBFS h1 found solution for [6, 2, 3, 4, 0, 1, 7, 5] with cost 7 in 0.001 seconds\n",
      "GBFS h1 found solution for [0, 1, 3, 7, 2, 5, 4, 6] with cost 21 in 0.00399 seconds\n",
      "GBFS h1 found solution for [5, 6, 2, 4, 0, 3, 1, 7] with cost 28 in 0.01895 seconds\n",
      "GBFS h1 found solution for [0, 6, 5, 7, 1, 4, 3, 2] with cost 32 in 0.00798 seconds\n",
      "GBFS h1 found solution for [0, 2, 1, 3, 5, 6, 7, 4] with cost 12 in 0.001 seconds\n",
      "GBFS h1 found solution for [7, 0, 4, 1, 2, 5, 3, 6] with cost 18 in 0.00498 seconds\n",
      "GBFS h1 found solution for [2, 7, 4, 5, 1, 0, 6, 3] with cost 29 in 0.00649 seconds\n",
      "GBFS h1 found solution for [1, 5, 0, 7, 3, 6, 4, 2] with cost 24 in 0.00399 seconds\n",
      "GBFS h1 found solution for [7, 1, 4, 6, 3, 0, 5, 2] with cost 19 in 0.002 seconds\n",
      "GBFS h1 found solution for [7, 6, 2, 3, 5, 0, 1, 4] with cost 19 in 0.00199 seconds\n",
      "GBFS h1 found solution for [7, 6, 3, 2, 5, 4, 1, 0] with cost 43 in 0.01097 seconds\n",
      "GBFS h1 found solution for [3, 7, 2, 0, 1, 5, 4, 6] with cost 36 in 0.00199 seconds\n",
      "GBFS h1 found solution for [3, 1, 2, 4, 0, 7, 6, 5] with cost 31 in 0.00598 seconds\n",
      "GBFS h1 found solution for [2, 6, 1, 4, 3, 5, 7, 0] with cost 22 in 0.00199 seconds\n",
      "GBFS h1 found solution for [4, 2, 6, 0, 7, 5, 1, 3] with cost 19 in 0.001 seconds\n",
      "GBFS h1 found solution for [0, 2, 3, 4, 7, 5, 6, 1] with cost 8 in 0.0 seconds\n",
      "GBFS h1 found solution for [0, 2, 5, 3, 4, 7, 1, 6] with cost 29 in 0.00598 seconds\n",
      "GBFS h1 found solution for [7, 1, 2, 4, 6, 3, 5, 0] with cost 30 in 0.00199 seconds\n",
      "GBFS h1 found solution for [6, 4, 2, 0, 3, 5, 1, 7] with cost 27 in 0.00299 seconds\n",
      "GBFS h1 found solution for [2, 3, 4, 5, 7, 6, 1, 0] with cost 36 in 0.01197 seconds\n",
      "GBFS h1 found solution for [0, 4, 5, 7, 3, 6, 2, 1] with cost 13 in 0.0 seconds\n",
      "GBFS h1 found solution for [5, 2, 6, 3, 4, 1, 7, 0] with cost 29 in 0.00399 seconds\n",
      "GBFS h1 found solution for [7, 6, 0, 2, 5, 3, 1, 4] with cost 23 in 0.00199 seconds\n",
      "GBFS h1 found solution for [1, 2, 5, 3, 4, 7, 0, 6] with cost 20 in 0.00299 seconds\n",
      "GBFS h1 found solution for [2, 4, 5, 6, 1, 0, 3, 7] with cost 32 in 0.00399 seconds\n",
      "GBFS h1 found solution for [3, 7, 5, 0, 1, 2, 4, 6] with cost 35 in 0.00898 seconds\n",
      "ANALYSIS OF GBFS WITH H1\n",
      "\n",
      "Average length of solution path: 16.0\n",
      "Total length of solution path: 800\n",
      "\n",
      "Average length of search path: 65.18\n",
      "Total length of search path: 3259\n",
      "\n",
      "Average cost: 25.82\n",
      "Total cost: 1291\n",
      "\n",
      "Rate of no solution: 0.0\n",
      "Total number of no solution 0\n",
      "\n",
      "Average execution time: 0.00424\n",
      "Total execution time: 0.21197\n"
     ]
    }
   ],
   "source": [
    "analyze(gbfs, analysis_set, 2, 4, h1)"
   ]
  },
  {
   "cell_type": "code",
   "execution_count": 39,
   "metadata": {},
   "outputs": [
    {
     "name": "stdout",
     "output_type": "stream",
     "text": [
      "GBFS h2 found solution for [2, 0, 5, 6, 1, 3, 4, 7] with cost 14 in 0.002 seconds\n",
      "GBFS h2 found solution for [0, 2, 1, 4, 3, 6, 5, 7] with cost 30 in 0.00997 seconds\n",
      "GBFS h2 found solution for [4, 6, 5, 2, 1, 3, 7, 0] with cost 20 in 0.00199 seconds\n",
      "GBFS h2 found solution for [6, 4, 3, 2, 1, 7, 0, 5] with cost 22 in 0.00199 seconds\n",
      "GBFS h2 found solution for [6, 7, 3, 2, 0, 1, 5, 4] with cost 13 in 0.00199 seconds\n",
      "GBFS h2 found solution for [1, 3, 6, 4, 5, 7, 2, 0] with cost 29 in 0.00898 seconds\n",
      "GBFS h2 found solution for [7, 6, 0, 1, 2, 4, 5, 3] with cost 23 in 0.00399 seconds\n",
      "GBFS h2 found solution for [7, 5, 3, 2, 1, 0, 4, 6] with cost 25 in 0.00399 seconds\n",
      "GBFS h2 found solution for [2, 0, 1, 4, 7, 5, 3, 6] with cost 17 in 0.00199 seconds\n",
      "GBFS h2 found solution for [6, 4, 3, 1, 7, 5, 0, 2] with cost 34 in 0.00798 seconds\n",
      "GBFS h2 found solution for [5, 4, 0, 3, 1, 2, 6, 7] with cost 9 in 0.002 seconds\n",
      "GBFS h2 found solution for [0, 2, 1, 5, 3, 4, 7, 6] with cost 22 in 0.00299 seconds\n",
      "GBFS h2 found solution for [2, 4, 5, 3, 7, 1, 6, 0] with cost 20 in 0.00499 seconds\n",
      "GBFS h2 found solution for [2, 1, 3, 5, 6, 0, 7, 4] with cost 14 in 0.00299 seconds\n",
      "GBFS h2 found solution for [3, 7, 2, 4, 6, 0, 5, 1] with cost 37 in 0.00897 seconds\n",
      "GBFS h2 found solution for [1, 5, 6, 3, 4, 2, 7, 0] with cost 12 in 0.001 seconds\n",
      "GBFS h2 found solution for [0, 5, 4, 7, 6, 3, 2, 1] with cost 23 in 0.00798 seconds\n",
      "GBFS h2 found solution for [5, 3, 2, 7, 0, 1, 6, 4] with cost 24 in 0.00399 seconds\n",
      "GBFS h2 found solution for [6, 4, 2, 5, 3, 1, 0, 7] with cost 28 in 0.00299 seconds\n",
      "GBFS h2 found solution for [1, 4, 6, 7, 0, 5, 3, 2] with cost 11 in 0.001 seconds\n",
      "GBFS h2 found solution for [5, 3, 0, 1, 6, 4, 2, 7] with cost 33 in 0.00598 seconds\n",
      "GBFS h2 found solution for [0, 5, 3, 6, 7, 1, 2, 4] with cost 28 in 0.00399 seconds\n",
      "GBFS h2 found solution for [4, 3, 0, 1, 7, 2, 6, 5] with cost 28 in 0.00299 seconds\n",
      "GBFS h2 found solution for [1, 4, 6, 3, 7, 2, 0, 5] with cost 23 in 0.00199 seconds\n",
      "GBFS h2 found solution for [6, 2, 3, 4, 0, 1, 7, 5] with cost 7 in 0.00299 seconds\n",
      "GBFS h2 found solution for [0, 1, 3, 7, 2, 5, 4, 6] with cost 17 in 0.00399 seconds\n",
      "GBFS h2 found solution for [5, 6, 2, 4, 0, 3, 1, 7] with cost 21 in 0.001 seconds\n",
      "GBFS h2 found solution for [0, 6, 5, 7, 1, 4, 3, 2] with cost 24 in 0.00499 seconds\n",
      "GBFS h2 found solution for [0, 2, 1, 3, 5, 6, 7, 4] with cost 13 in 0.00199 seconds\n",
      "GBFS h2 found solution for [7, 0, 4, 1, 2, 5, 3, 6] with cost 15 in 0.001 seconds\n",
      "GBFS h2 found solution for [2, 7, 4, 5, 1, 0, 6, 3] with cost 14 in 0.001 seconds\n",
      "GBFS h2 found solution for [1, 5, 0, 7, 3, 6, 4, 2] with cost 23 in 0.00798 seconds\n",
      "GBFS h2 found solution for [7, 1, 4, 6, 3, 0, 5, 2] with cost 19 in 0.00299 seconds\n",
      "GBFS h2 found solution for [7, 6, 2, 3, 5, 0, 1, 4] with cost 19 in 0.001 seconds\n",
      "GBFS h2 found solution for [7, 6, 3, 2, 5, 4, 1, 0] with cost 17 in 0.001 seconds\n",
      "GBFS h2 found solution for [3, 7, 2, 0, 1, 5, 4, 6] with cost 31 in 0.00798 seconds\n",
      "GBFS h2 found solution for [3, 1, 2, 4, 0, 7, 6, 5] with cost 27 in 0.00798 seconds\n",
      "GBFS h2 found solution for [2, 6, 1, 4, 3, 5, 7, 0] with cost 21 in 0.00299 seconds\n",
      "GBFS h2 found solution for [4, 2, 6, 0, 7, 5, 1, 3] with cost 26 in 0.00299 seconds\n",
      "GBFS h2 found solution for [0, 2, 3, 4, 7, 5, 6, 1] with cost 8 in 0.001 seconds\n",
      "GBFS h2 found solution for [0, 2, 5, 3, 4, 7, 1, 6] with cost 17 in 0.00199 seconds\n",
      "GBFS h2 found solution for [7, 1, 2, 4, 6, 3, 5, 0] with cost 34 in 0.00898 seconds\n",
      "GBFS h2 found solution for [6, 4, 2, 0, 3, 5, 1, 7] with cost 29 in 0.00399 seconds\n",
      "GBFS h2 found solution for [2, 3, 4, 5, 7, 6, 1, 0] with cost 16 in 0.00199 seconds\n",
      "GBFS h2 found solution for [0, 4, 5, 7, 3, 6, 2, 1] with cost 13 in 0.001 seconds\n",
      "GBFS h2 found solution for [5, 2, 6, 3, 4, 1, 7, 0] with cost 19 in 0.00598 seconds\n",
      "GBFS h2 found solution for [7, 6, 0, 2, 5, 3, 1, 4] with cost 25 in 0.00199 seconds\n",
      "GBFS h2 found solution for [1, 2, 5, 3, 4, 7, 0, 6] with cost 24 in 0.00598 seconds\n",
      "GBFS h2 found solution for [2, 4, 5, 6, 1, 0, 3, 7] with cost 18 in 0.001 seconds\n",
      "GBFS h2 found solution for [3, 7, 5, 0, 1, 2, 4, 6] with cost 12 in 0.001 seconds\n",
      "ANALYSIS OF GBFS WITH H2\n",
      "\n",
      "Average length of solution path: 15.04\n",
      "Total length of solution path: 752\n",
      "\n",
      "Average length of search path: 34.44\n",
      "Total length of search path: 1722\n",
      "\n",
      "Average cost: 20.96\n",
      "Total cost: 1048\n",
      "\n",
      "Rate of no solution: 0.0\n",
      "Total number of no solution 0\n",
      "\n",
      "Average execution time: 0.00371\n",
      "Total execution time: 0.18548999999999996\n"
     ]
    }
   ],
   "source": [
    "analyze(gbfs, analysis_set, 2, 4, h2)"
   ]
  },
  {
   "cell_type": "code",
   "execution_count": 40,
   "metadata": {},
   "outputs": [
    {
     "name": "stdout",
     "output_type": "stream",
     "text": [
      "A* h1 found solution for [2, 0, 5, 6, 1, 3, 4, 7] with cost 13 in 0.05585 seconds\n",
      "A* h1 found solution for [0, 2, 1, 4, 3, 6, 5, 7] with cost 14 in 0.1496 seconds\n",
      "A* h1 found solution for [4, 6, 5, 2, 1, 3, 7, 0] with cost 14 in 0.12804 seconds\n",
      "A* h1 found solution for [6, 4, 3, 2, 1, 7, 0, 5] with cost 13 in 0.03989 seconds\n",
      "A* h1 found solution for [6, 7, 3, 2, 0, 1, 5, 4] with cost 13 in 0.02951 seconds\n",
      "A* h1 found solution for [1, 3, 6, 4, 5, 7, 2, 0] with cost 14 in 0.16253 seconds\n",
      "A* h1 found solution for [7, 6, 0, 1, 2, 4, 5, 3] with cost 15 in 0.3351 seconds\n",
      "A* h1 found solution for [7, 5, 3, 2, 1, 0, 4, 6] with cost 16 in 1.92432 seconds\n",
      "A* h1 found solution for [2, 0, 1, 4, 7, 5, 3, 6] with cost 13 in 0.04914 seconds\n",
      "A* h1 found solution for [6, 4, 3, 1, 7, 5, 0, 2] with cost 16 in 1.50966 seconds\n",
      "A* h1 found solution for [5, 4, 0, 3, 1, 2, 6, 7] with cost 9 in 0.00199 seconds\n",
      "A* h1 found solution for [0, 2, 1, 5, 3, 4, 7, 6] with cost 13 in 0.04093 seconds\n",
      "A* h1 found solution for [2, 4, 5, 3, 7, 1, 6, 0] with cost 14 in 0.10079 seconds\n",
      "A* h1 found solution for [2, 1, 3, 5, 6, 0, 7, 4] with cost 10 in 0.00502 seconds\n",
      "A* h1 found solution for [3, 7, 2, 4, 6, 0, 5, 1] with cost 16 in 0.82627 seconds\n",
      "A* h1 found solution for [1, 5, 6, 3, 4, 2, 7, 0] with cost 12 in 0.0748 seconds\n",
      "A* h1 found solution for [0, 5, 4, 7, 6, 3, 2, 1] with cost 14 in 0.28524 seconds\n",
      "A* h1 found solution for [5, 3, 2, 7, 0, 1, 6, 4] with cost 13 in 0.17752 seconds\n",
      "A* h1 found solution for [6, 4, 2, 5, 3, 1, 0, 7] with cost 15 in 0.61407 seconds\n",
      "A* h1 found solution for [1, 4, 6, 7, 0, 5, 3, 2] with cost 11 in 0.01093 seconds\n",
      "A* h1 found solution for [5, 3, 0, 1, 6, 4, 2, 7] with cost 13 in 0.06121 seconds\n",
      "A* h1 found solution for [0, 5, 3, 6, 7, 1, 2, 4] with cost 15 in 0.71609 seconds\n",
      "A* h1 found solution for [4, 3, 0, 1, 7, 2, 6, 5] with cost 12 in 0.04288 seconds\n",
      "A* h1 found solution for [1, 4, 6, 3, 7, 2, 0, 5] with cost 10 in 0.02095 seconds\n",
      "A* h1 found solution for [6, 2, 3, 4, 0, 1, 7, 5] with cost 7 in 0.002 seconds\n",
      "A* h1 found solution for [0, 1, 3, 7, 2, 5, 4, 6] with cost 12 in 0.05585 seconds\n",
      "A* h1 found solution for [5, 6, 2, 4, 0, 3, 1, 7] with cost 15 in 1.64874 seconds\n",
      "A* h1 found solution for [0, 6, 5, 7, 1, 4, 3, 2] with cost 14 in 0.53609 seconds\n",
      "A* h1 found solution for [0, 2, 1, 3, 5, 6, 7, 4] with cost 12 in 0.09076 seconds\n",
      "A* h1 found solution for [7, 0, 4, 1, 2, 5, 3, 6] with cost 13 in 0.16212 seconds\n",
      "A* h1 found solution for [2, 7, 4, 5, 1, 0, 6, 3] with cost 13 in 0.30075 seconds\n",
      "A* h1 found solution for [1, 5, 0, 7, 3, 6, 4, 2] with cost 11 in 0.04887 seconds\n",
      "A* h1 found solution for [7, 1, 4, 6, 3, 0, 5, 2] with cost 15 in 1.35078 seconds\n",
      "A* h1 found solution for [7, 6, 2, 3, 5, 0, 1, 4] with cost 15 in 0.43839 seconds\n",
      "A* h1 found solution for [7, 6, 3, 2, 5, 4, 1, 0] with cost 16 in 1.9929 seconds\n",
      "A* h1 found solution for [3, 7, 2, 0, 1, 5, 4, 6] with cost 12 in 0.01401 seconds\n",
      "A* h1 found solution for [3, 1, 2, 4, 0, 7, 6, 5] with cost 16 in 1.98914 seconds\n",
      "A* h1 found solution for [2, 6, 1, 4, 3, 5, 7, 0] with cost 14 in 0.20496 seconds\n",
      "A* h1 found solution for [4, 2, 6, 0, 7, 5, 1, 3] with cost 14 in 0.15159 seconds\n",
      "A* h1 found solution for [0, 2, 3, 4, 7, 5, 6, 1] with cost 8 in 0.00299 seconds\n",
      "A* h1 found solution for [0, 2, 5, 3, 4, 7, 1, 6] with cost 16 in 1.53649 seconds\n",
      "A* h1 found solution for [7, 1, 2, 4, 6, 3, 5, 0] with cost 12 in 0.03579 seconds\n",
      "A* h1 found solution for [6, 4, 2, 0, 3, 5, 1, 7] with cost 19 in 44.33035 seconds\n",
      "A* h1 found solution for [2, 3, 4, 5, 7, 6, 1, 0] with cost 14 in 0.32342 seconds\n",
      "A* h1 found solution for [0, 4, 5, 7, 3, 6, 2, 1] with cost 10 in 0.00798 seconds\n",
      "A* h1 found solution for [5, 2, 6, 3, 4, 1, 7, 0] with cost 12 in 0.04787 seconds\n",
      "A* h1 found solution for [7, 6, 0, 2, 5, 3, 1, 4] with cost 13 in 0.0828 seconds\n",
      "A* h1 found solution for [1, 2, 5, 3, 4, 7, 0, 6] with cost 12 in 0.03491 seconds\n",
      "A* h1 found solution for [2, 4, 5, 6, 1, 0, 3, 7] with cost 16 in 1.13639 seconds\n",
      "A* h1 found solution for [3, 7, 5, 0, 1, 2, 4, 6] with cost 12 in 0.01994 seconds\n",
      "ANALYSIS OF A_STAR WITH H1\n",
      "\n",
      "Average length of solution path: 11.28\n",
      "Total length of solution path: 564\n",
      "\n",
      "Average length of search path: 1157.4\n",
      "Total length of search path: 57870\n",
      "\n",
      "Average cost: 13.22\n",
      "Total cost: 661\n",
      "\n",
      "Rate of no solution: 0.0\n",
      "Total number of no solution 0\n",
      "\n",
      "Average execution time: 1.27816\n",
      "Total execution time: 63.90821000000001\n"
     ]
    }
   ],
   "source": [
    "analyze(a_star, analysis_set, 2, 4, h1)"
   ]
  },
  {
   "cell_type": "code",
   "execution_count": 41,
   "metadata": {},
   "outputs": [
    {
     "name": "stdout",
     "output_type": "stream",
     "text": [
      "A* h2 found solution for [2, 0, 5, 6, 1, 3, 4, 7] with cost 13 in 0.01998 seconds\n",
      "A* h2 found solution for [0, 2, 1, 4, 3, 6, 5, 7] with cost 14 in 0.02042 seconds\n",
      "A* h2 found solution for [4, 6, 5, 2, 1, 3, 7, 0] with cost 14 in 0.01596 seconds\n",
      "A* h2 found solution for [6, 4, 3, 2, 1, 7, 0, 5] with cost 13 in 0.00405 seconds\n",
      "A* h2 found solution for [6, 7, 3, 2, 0, 1, 5, 4] with cost 13 in 0.00399 seconds\n",
      "A* h2 found solution for [1, 3, 6, 4, 5, 7, 2, 0] with cost 14 in 0.05281 seconds\n",
      "A* h2 found solution for [7, 6, 0, 1, 2, 4, 5, 3] with cost 15 in 0.02593 seconds\n",
      "A* h2 found solution for [7, 5, 3, 2, 1, 0, 4, 6] with cost 16 in 0.10871 seconds\n",
      "A* h2 found solution for [2, 0, 1, 4, 7, 5, 3, 6] with cost 13 in 0.00798 seconds\n",
      "A* h2 found solution for [6, 4, 3, 1, 7, 5, 0, 2] with cost 16 in 0.02793 seconds\n",
      "A* h2 found solution for [5, 4, 0, 3, 1, 2, 6, 7] with cost 9 in 0.00253 seconds\n",
      "A* h2 found solution for [0, 2, 1, 5, 3, 4, 7, 6] with cost 13 in 0.01197 seconds\n",
      "A* h2 found solution for [2, 4, 5, 3, 7, 1, 6, 0] with cost 14 in 0.01895 seconds\n",
      "A* h2 found solution for [2, 1, 3, 5, 6, 0, 7, 4] with cost 10 in 0.00399 seconds\n",
      "A* h2 found solution for [3, 7, 2, 4, 6, 0, 5, 1] with cost 16 in 0.04987 seconds\n",
      "A* h2 found solution for [1, 5, 6, 3, 4, 2, 7, 0] with cost 12 in 0.00996 seconds\n",
      "A* h2 found solution for [0, 5, 4, 7, 6, 3, 2, 1] with cost 14 in 0.01396 seconds\n",
      "A* h2 found solution for [5, 3, 2, 7, 0, 1, 6, 4] with cost 13 in 0.01397 seconds\n",
      "A* h2 found solution for [6, 4, 2, 5, 3, 1, 0, 7] with cost 15 in 0.01596 seconds\n",
      "A* h2 found solution for [1, 4, 6, 7, 0, 5, 3, 2] with cost 11 in 0.00298 seconds\n",
      "A* h2 found solution for [5, 3, 0, 1, 6, 4, 2, 7] with cost 13 in 0.00997 seconds\n",
      "A* h2 found solution for [0, 5, 3, 6, 7, 1, 2, 4] with cost 15 in 0.03491 seconds\n",
      "A* h2 found solution for [4, 3, 0, 1, 7, 2, 6, 5] with cost 12 in 0.00598 seconds\n",
      "A* h2 found solution for [1, 4, 6, 3, 7, 2, 0, 5] with cost 10 in 0.00299 seconds\n",
      "A* h2 found solution for [6, 2, 3, 4, 0, 1, 7, 5] with cost 7 in 0.00107 seconds\n",
      "A* h2 found solution for [0, 1, 3, 7, 2, 5, 4, 6] with cost 12 in 0.01089 seconds\n",
      "A* h2 found solution for [5, 6, 2, 4, 0, 3, 1, 7] with cost 15 in 0.0738 seconds\n",
      "A* h2 found solution for [0, 6, 5, 7, 1, 4, 3, 2] with cost 14 in 0.02393 seconds\n",
      "A* h2 found solution for [0, 2, 1, 3, 5, 6, 7, 4] with cost 12 in 0.02494 seconds\n",
      "A* h2 found solution for [7, 0, 4, 1, 2, 5, 3, 6] with cost 13 in 0.00997 seconds\n",
      "A* h2 found solution for [2, 7, 4, 5, 1, 0, 6, 3] with cost 13 in 0.01197 seconds\n",
      "A* h2 found solution for [1, 5, 0, 7, 3, 6, 4, 2] with cost 11 in 0.00698 seconds\n",
      "A* h2 found solution for [7, 1, 4, 6, 3, 0, 5, 2] with cost 15 in 0.01795 seconds\n",
      "A* h2 found solution for [7, 6, 2, 3, 5, 0, 1, 4] with cost 15 in 0.02793 seconds\n",
      "A* h2 found solution for [7, 6, 3, 2, 5, 4, 1, 0] with cost 16 in 0.02294 seconds\n",
      "A* h2 found solution for [3, 7, 2, 0, 1, 5, 4, 6] with cost 12 in 0.00199 seconds\n",
      "A* h2 found solution for [3, 1, 2, 4, 0, 7, 6, 5] with cost 16 in 0.09674 seconds\n",
      "A* h2 found solution for [2, 6, 1, 4, 3, 5, 7, 0] with cost 14 in 0.03092 seconds\n",
      "A* h2 found solution for [4, 2, 6, 0, 7, 5, 1, 3] with cost 14 in 0.00399 seconds\n",
      "A* h2 found solution for [0, 2, 3, 4, 7, 5, 6, 1] with cost 8 in 0.00099 seconds\n",
      "A* h2 found solution for [0, 2, 5, 3, 4, 7, 1, 6] with cost 16 in 0.03889 seconds\n",
      "A* h2 found solution for [7, 1, 2, 4, 6, 3, 5, 0] with cost 12 in 0.00299 seconds\n",
      "A* h2 found solution for [6, 4, 2, 0, 3, 5, 1, 7] with cost 19 in 0.54904 seconds\n",
      "A* h2 found solution for [2, 3, 4, 5, 7, 6, 1, 0] with cost 14 in 0.01951 seconds\n",
      "A* h2 found solution for [0, 4, 5, 7, 3, 6, 2, 1] with cost 10 in 0.00099 seconds\n",
      "A* h2 found solution for [5, 2, 6, 3, 4, 1, 7, 0] with cost 12 in 0.00895 seconds\n",
      "A* h2 found solution for [7, 6, 0, 2, 5, 3, 1, 4] with cost 13 in 0.00797 seconds\n",
      "A* h2 found solution for [1, 2, 5, 3, 4, 7, 0, 6] with cost 12 in 0.01692 seconds\n",
      "A* h2 found solution for [2, 4, 5, 6, 1, 0, 3, 7] with cost 16 in 0.29828 seconds\n",
      "A* h2 found solution for [3, 7, 5, 0, 1, 2, 4, 6] with cost 12 in 0.01097 seconds\n",
      "ANALYSIS OF A_STAR WITH H2\n",
      "\n",
      "Average length of solution path: 11.24\n",
      "Total length of solution path: 562\n",
      "\n",
      "Average length of search path: 150.12\n",
      "Total length of search path: 7506\n",
      "\n",
      "Average cost: 13.22\n",
      "Total cost: 661\n",
      "\n",
      "Rate of no solution: 0.0\n",
      "Total number of no solution 0\n",
      "\n",
      "Average execution time: 0.03615\n",
      "Total execution time: 1.8072599999999999\n"
     ]
    }
   ],
   "source": [
    "analyze(a_star, analysis_set, 2, 4, h2)"
   ]
  },
  {
   "cell_type": "markdown",
   "metadata": {},
   "source": [
    "## Scaling Up"
   ]
  },
  {
   "cell_type": "code",
   "execution_count": 43,
   "metadata": {},
   "outputs": [],
   "source": [
    "# We experimented with the following scaled up versions of the puzzle for GBFS h2 and A* h2:\n",
    "#\n",
    "# A* h2: 3x3, 3x4, 4x4\n",
    "#\n",
    "# GBFS h2: 3x3, 3x4, 4x4, 5x5, 8x8\n",
    "\n",
    "scaled_3x3 = random_puzzle_set(3, 3, 10)\n",
    "scaled_3x4 = random_puzzle_set(3, 4, 10)\n",
    "scaled_4x4 = random_puzzle_set(4, 4, 10)"
   ]
  },
  {
   "cell_type": "code",
   "execution_count": 44,
   "metadata": {},
   "outputs": [
    {
     "name": "stdout",
     "output_type": "stream",
     "text": [
      "GBFS h2 found solution for [1, 5, 4, 3, 0, 8, 2, 7, 6] with cost 24 in 0.0101 seconds\n",
      "GBFS h2 found solution for [5, 4, 1, 8, 0, 7, 2, 3, 6] with cost 10 in 0.001 seconds\n",
      "GBFS h2 found solution for [7, 3, 0, 6, 8, 5, 1, 2, 4] with cost 24 in 0.01028 seconds\n",
      "GBFS h2 found solution for [2, 6, 8, 7, 0, 1, 4, 5, 3] with cost 22 in 0.00691 seconds\n",
      "GBFS h2 found solution for [0, 6, 3, 2, 7, 4, 5, 1, 8] with cost 20 in 0.00698 seconds\n",
      "GBFS h2 found solution for [6, 3, 1, 5, 2, 7, 0, 8, 4] with cost 18 in 0.00297 seconds\n",
      "GBFS h2 found solution for [3, 7, 8, 5, 1, 6, 2, 4, 0] with cost 16 in 0.00432 seconds\n",
      "GBFS h2 found solution for [6, 0, 8, 4, 1, 3, 5, 2, 7] with cost 25 in 0.00404 seconds\n",
      "GBFS h2 found solution for [2, 7, 3, 5, 8, 1, 0, 4, 6] with cost 14 in 0.00304 seconds\n",
      "GBFS h2 found solution for [5, 8, 6, 0, 1, 4, 7, 2, 3] with cost 20 in 0.004 seconds\n",
      "ANALYSIS OF GBFS WITH H2\n",
      "\n",
      "Average length of solution path: 15.0\n",
      "Total length of solution path: 150\n",
      "\n",
      "Average length of search path: 21.9\n",
      "Total length of search path: 219\n",
      "\n",
      "Average cost: 19.3\n",
      "Total cost: 193\n",
      "\n",
      "Rate of no solution: 0.0\n",
      "Total number of no solution 0\n",
      "\n",
      "Average execution time: 0.00536\n",
      "Total execution time: 0.05363999999999999\n",
      "A* h2 found solution for [1, 5, 4, 3, 0, 8, 2, 7, 6] with cost 11 in 0.0119 seconds\n",
      "A* h2 found solution for [5, 4, 1, 8, 0, 7, 2, 3, 6] with cost 10 in 0.00304 seconds\n",
      "A* h2 found solution for [7, 3, 0, 6, 8, 5, 1, 2, 4] with cost 17 in 0.11749 seconds\n",
      "A* h2 found solution for [2, 6, 8, 7, 0, 1, 4, 5, 3] with cost 16 in 0.11224 seconds\n",
      "A* h2 found solution for [0, 6, 3, 2, 7, 4, 5, 1, 8] with cost 14 in 0.03113 seconds\n",
      "A* h2 found solution for [6, 3, 1, 5, 2, 7, 0, 8, 4] with cost 16 in 0.03846 seconds\n",
      "A* h2 found solution for [3, 7, 8, 5, 1, 6, 2, 4, 0] with cost 12 in 0.01365 seconds\n",
      "A* h2 found solution for [6, 0, 8, 4, 1, 3, 5, 2, 7] with cost 16 in 0.07754 seconds\n",
      "A* h2 found solution for [2, 7, 3, 5, 8, 1, 0, 4, 6] with cost 13 in 0.01285 seconds\n",
      "A* h2 found solution for [5, 8, 6, 0, 1, 4, 7, 2, 3] with cost 14 in 0.02947 seconds\n",
      "ANALYSIS OF A_STAR WITH H2\n",
      "\n",
      "Average length of solution path: 11.4\n",
      "Total length of solution path: 114\n",
      "\n",
      "Average length of search path: 84.8\n",
      "Total length of search path: 848\n",
      "\n",
      "Average cost: 13.9\n",
      "Total cost: 139\n",
      "\n",
      "Rate of no solution: 0.0\n",
      "Total number of no solution 0\n",
      "\n",
      "Average execution time: 0.04478\n",
      "Total execution time: 0.44777\n"
     ]
    }
   ],
   "source": [
    "analyze(gbfs, scaled_3x3, 3, 3, h2)\n",
    "analyze(a_star, scaled_3x3, 3, 3, h2)"
   ]
  },
  {
   "cell_type": "code",
   "execution_count": 46,
   "metadata": {},
   "outputs": [
    {
     "name": "stdout",
     "output_type": "stream",
     "text": [
      "GBFS h2 found solution for [1, 0, 9, 8, 2, 11, 6, 7, 10, 3, 5, 4] with cost 44 in 0.02299 seconds\n",
      "GBFS h2 found solution for [3, 11, 8, 0, 9, 7, 2, 1, 6, 10, 4, 5] with cost 49 in 0.03658 seconds\n",
      "GBFS h2 found solution for [1, 3, 0, 7, 4, 8, 11, 2, 6, 5, 9, 10] with cost 46 in 0.06011 seconds\n",
      "GBFS h2 found solution for [2, 0, 6, 1, 7, 8, 9, 10, 11, 3, 4, 5] with cost 55 in 0.03215 seconds\n",
      "GBFS h2 found solution for [2, 11, 5, 3, 7, 8, 10, 9, 4, 0, 1, 6] with cost 45 in 0.01806 seconds\n",
      "GBFS h2 found solution for [11, 1, 7, 9, 4, 2, 8, 6, 5, 3, 10, 0] with cost 58 in 0.07206 seconds\n",
      "GBFS h2 found solution for [6, 2, 0, 3, 9, 7, 10, 1, 11, 4, 5, 8] with cost 39 in 0.02883 seconds\n",
      "GBFS h2 found solution for [5, 11, 1, 10, 4, 9, 3, 6, 2, 0, 7, 8] with cost 50 in 0.07023 seconds\n",
      "GBFS h2 found solution for [4, 3, 8, 6, 7, 9, 11, 10, 2, 5, 1, 0] with cost 40 in 0.10488 seconds\n",
      "GBFS h2 found solution for [6, 7, 8, 9, 11, 0, 2, 3, 5, 10, 1, 4] with cost 53 in 0.07092 seconds\n",
      "ANALYSIS OF GBFS WITH H2\n",
      "\n",
      "Average length of solution path: 37.5\n",
      "Total length of solution path: 375\n",
      "\n",
      "Average length of search path: 119.0\n",
      "Total length of search path: 1190\n",
      "\n",
      "Average cost: 47.9\n",
      "Total cost: 479\n",
      "\n",
      "Rate of no solution: 0.0\n",
      "Total number of no solution 0\n",
      "\n",
      "Average execution time: 0.05168\n",
      "Total execution time: 0.51681\n",
      "A* h2 found solution for [1, 0, 9, 8, 2, 11, 6, 7, 10, 3, 5, 4] with cost 23 in 0.68882 seconds\n",
      "A* h2 found solution for [3, 11, 8, 0, 9, 7, 2, 1, 6, 10, 4, 5] with cost 26 in 4.47133 seconds\n",
      "A* h2 found solution for [1, 3, 0, 7, 4, 8, 11, 2, 6, 5, 9, 10] with cost 19 in 0.24966 seconds\n",
      "A* h2 found solution for [2, 0, 6, 1, 7, 8, 9, 10, 11, 3, 4, 5] with cost 24 in 0.29832 seconds\n",
      "A* h2 found solution for [2, 11, 5, 3, 7, 8, 10, 9, 4, 0, 1, 6] with cost 28 in 4.70539 seconds\n",
      "A* h2 found solution for [11, 1, 7, 9, 4, 2, 8, 6, 5, 3, 10, 0] with cost 23 in 1.33941 seconds\n",
      "A* h2 found solution for [6, 2, 0, 3, 9, 7, 10, 1, 11, 4, 5, 8] with cost 23 in 0.25157 seconds\n",
      "A* h2 found solution for [5, 11, 1, 10, 4, 9, 3, 6, 2, 0, 7, 8] with cost 24 in 0.60431 seconds\n",
      "A* h2 found solution for [4, 3, 8, 6, 7, 9, 11, 10, 2, 5, 1, 0] with cost 25 in 1.43484 seconds\n",
      "A* h2 found solution for [6, 7, 8, 9, 11, 0, 2, 3, 5, 10, 1, 4] with cost 25 in 0.74299 seconds\n",
      "ANALYSIS OF A_STAR WITH H2\n",
      "\n",
      "Average length of solution path: 20.5\n",
      "Total length of solution path: 205\n",
      "\n",
      "Average length of search path: 1146.1\n",
      "Total length of search path: 11461\n",
      "\n",
      "Average cost: 24.0\n",
      "Total cost: 240\n",
      "\n",
      "Rate of no solution: 0.0\n",
      "Total number of no solution 0\n",
      "\n",
      "Average execution time: 1.47866\n",
      "Total execution time: 14.786640000000002\n"
     ]
    }
   ],
   "source": [
    "analyze(gbfs, scaled_3x4, 3, 4, h2)\n",
    "analyze(a_star, scaled_3x4, 3, 4, h2)"
   ]
  },
  {
   "cell_type": "code",
   "execution_count": 62,
   "metadata": {},
   "outputs": [
    {
     "name": "stdout",
     "output_type": "stream",
     "text": [
      "A* h2  timed out after 60 seconds on puzzle [3, 10, 6, 9, 0, 11, 4, 1, 7, 14, 5, 12, 2, 13, 15, 8]\n",
      "A* h2 found solution for [1, 11, 2, 10, 14, 9, 4, 0, 12, 5, 8, 3, 15, 13, 7, 6] with cost 36 in 57.19664 seconds\n",
      "A* h2 found solution for [3, 0, 13, 6, 8, 15, 14, 1, 5, 2, 9, 12, 7, 4, 11, 10] with cost 38 in 210.22741 seconds\n",
      "A* h2 found solution for [5, 9, 1, 11, 4, 14, 15, 3, 2, 10, 12, 7, 6, 8, 0, 13] with cost 31 in 0.55503 seconds\n",
      "A* h2 found solution for [15, 1, 6, 4, 8, 0, 13, 3, 11, 10, 5, 14, 7, 2, 9, 12] with cost 36 in 21.27337 seconds\n",
      "A* h2  timed out after 60 seconds on puzzle [11, 1, 9, 6, 4, 0, 10, 5, 2, 15, 7, 14, 3, 13, 12, 8]\n",
      "A* h2  timed out after 60 seconds on puzzle [0, 13, 1, 2, 3, 15, 4, 14, 6, 11, 9, 8, 10, 12, 5, 7]\n",
      "A* h2 found solution for [4, 5, 2, 14, 13, 3, 10, 15, 1, 8, 6, 0, 9, 7, 11, 12] with cost 32 in 224.87245 seconds\n",
      "A* h2  timed out after 60 seconds on puzzle [9, 3, 7, 6, 14, 13, 8, 15, 10, 5, 2, 11, 12, 4, 1, 0]\n",
      "A* h2  timed out after 60 seconds on puzzle [15, 13, 6, 7, 14, 10, 8, 11, 4, 1, 3, 12, 0, 9, 2, 5]\n",
      "ANALYSIS OF A_STAR WITH H2\n",
      "\n",
      "Average length of solution path: 30.8\n",
      "Total length of solution path: 154\n",
      "\n",
      "Average length of search path: 15355.6\n",
      "Total length of search path: 76778\n",
      "\n",
      "Average cost: 34.6\n",
      "Total cost: 173\n",
      "\n",
      "Rate of no solution: 0.5\n",
      "Total number of no solution 5\n",
      "\n",
      "Average execution time: 102.82498\n",
      "Total execution time: 514.1248999999999\n"
     ]
    }
   ],
   "source": [
    "analyze(gbfs, scaled_4x4, 4, 4, h2)\n",
    "# analyze(a_star, scaled_4x4, 4, 4, h2)"
   ]
  },
  {
   "cell_type": "code",
   "execution_count": 49,
   "metadata": {},
   "outputs": [],
   "source": [
    "scaled_5x5 = random_puzzle_set(5, 5, 10)"
   ]
  },
  {
   "cell_type": "code",
   "execution_count": 53,
   "metadata": {},
   "outputs": [],
   "source": [
    "scaled_8x8 = random_puzzle_set(8, 8, 10)"
   ]
  },
  {
   "cell_type": "code",
   "execution_count": 50,
   "metadata": {},
   "outputs": [
    {
     "name": "stdout",
     "output_type": "stream",
     "text": [
      "GBFS h2 found solution for [22, 13, 14, 0, 4, 15, 8, 5, 19, 20, 23, 11, 17, 2, 3, 1, 9, 6, 12, 7, 18, 21, 16, 10, 24] with cost 226 in 1.2974 seconds\n",
      "GBFS h2 found solution for [18, 22, 5, 17, 13, 21, 2, 4, 23, 24, 19, 11, 1, 7, 8, 12, 3, 6, 16, 14, 20, 0, 9, 15, 10] with cost 219 in 1.96838 seconds\n",
      "GBFS h2 found solution for [5, 7, 20, 16, 22, 11, 21, 3, 10, 0, 9, 6, 13, 4, 12, 2, 8, 24, 1, 17, 15, 18, 14, 19, 23] with cost 202 in 3.28313 seconds\n",
      "GBFS h2 found solution for [13, 6, 18, 9, 15, 7, 16, 17, 0, 8, 11, 2, 12, 14, 22, 4, 10, 24, 3, 1, 23, 20, 19, 21, 5] with cost 221 in 2.09126 seconds\n",
      "GBFS h2 found solution for [17, 8, 18, 5, 22, 16, 9, 12, 24, 19, 20, 21, 23, 7, 0, 15, 14, 3, 6, 10, 4, 13, 1, 2, 11] with cost 234 in 2.42623 seconds\n",
      "GBFS h2 found solution for [19, 17, 1, 15, 21, 9, 18, 13, 4, 23, 0, 6, 24, 7, 5, 10, 16, 22, 8, 11, 3, 20, 14, 2, 12] with cost 233 in 2.76604 seconds\n",
      "GBFS h2 found solution for [24, 18, 1, 11, 10, 2, 6, 20, 4, 19, 7, 5, 8, 12, 23, 3, 15, 22, 13, 0, 21, 9, 16, 17, 14] with cost 217 in 2.8944 seconds\n",
      "GBFS h2 found solution for [4, 1, 12, 14, 3, 8, 2, 0, 17, 9, 6, 7, 22, 5, 23, 21, 20, 24, 15, 16, 18, 11, 19, 10, 13] with cost 243 in 1.55161 seconds\n",
      "GBFS h2 found solution for [7, 12, 5, 0, 17, 14, 18, 6, 13, 10, 21, 11, 20, 1, 8, 23, 22, 9, 4, 15, 3, 24, 16, 19, 2] with cost 197 in 1.62455 seconds\n",
      "GBFS h2 found solution for [14, 10, 3, 17, 11, 12, 9, 8, 15, 1, 23, 18, 5, 7, 4, 6, 21, 16, 20, 13, 22, 0, 2, 24, 19] with cost 283 in 4.23652 seconds\n",
      "ANALYSIS OF GBFS WITH H2\n",
      "\n",
      "Average length of solution path: 180.7\n",
      "Total length of solution path: 1807\n",
      "\n",
      "Average length of search path: 2568.8\n",
      "Total length of search path: 25688\n",
      "\n",
      "Average cost: 227.5\n",
      "Total cost: 2275\n",
      "\n",
      "Rate of no solution: 0.0\n",
      "Total number of no solution 0\n",
      "\n",
      "Average execution time: 2.41395\n",
      "Total execution time: 24.13952\n"
     ]
    }
   ],
   "source": [
    "analyze(gbfs, scaled_5x5, 5, 5, h2)"
   ]
  },
  {
   "cell_type": "code",
   "execution_count": 60,
   "metadata": {},
   "outputs": [
    {
     "name": "stdout",
     "output_type": "stream",
     "text": [
      "GBFS h2 found solution for [15, 44, 29, 20, 9, 35, 33, 58, 6, 50, 0, 14, 38, 31, 26, 7, 52, 30, 40, 17, 1, 56, 27, 23, 13, 61, 63, 39, 22, 55, 32, 54, 36, 47, 25, 18, 45, 37, 5, 49, 19, 11, 42, 60, 24, 12, 46, 21, 4, 59, 53, 10, 51, 16, 41, 48, 28, 2, 62, 3, 43, 57, 8, 34] with cost 1085 in 212.52689 seconds\n",
      "GBFS h2 found solution for [14, 30, 1, 45, 29, 20, 61, 49, 59, 7, 43, 11, 24, 17, 13, 2, 26, 37, 16, 25, 50, 47, 33, 44, 9, 62, 18, 48, 36, 38, 63, 6, 4, 27, 58, 42, 51, 15, 54, 60, 52, 41, 39, 55, 12, 23, 19, 34, 56, 22, 21, 8, 31, 10, 3, 28, 0, 35, 46, 57, 53, 5, 32, 40] with cost 1000 in 161.64545 seconds\n",
      "GBFS h2 found solution for [29, 4, 5, 40, 28, 37, 9, 49, 60, 55, 47, 21, 31, 26, 30, 52, 57, 44, 8, 33, 10, 3, 50, 45, 42, 1, 54, 48, 11, 18, 19, 63, 2, 6, 23, 38, 39, 25, 27, 13, 12, 32, 36, 15, 7, 14, 58, 34, 56, 59, 20, 51, 17, 0, 46, 35, 24, 43, 22, 62, 61, 16, 41, 53] with cost 1046 in 233.88957 seconds\n",
      "GBFS h2 found solution for [9, 36, 44, 5, 1, 32, 21, 6, 27, 59, 43, 12, 33, 60, 52, 30, 49, 51, 62, 7, 24, 3, 63, 25, 58, 38, 54, 57, 13, 42, 14, 46, 17, 20, 26, 23, 40, 35, 47, 31, 29, 0, 28, 16, 39, 34, 18, 22, 11, 61, 55, 53, 19, 4, 41, 56, 37, 50, 10, 48, 45, 15, 2, 8] with cost 1005 in 80.06626 seconds\n",
      "GBFS h2 found solution for [47, 51, 19, 43, 12, 42, 0, 45, 59, 54, 2, 27, 20, 10, 26, 24, 57, 28, 53, 11, 32, 34, 33, 6, 14, 44, 13, 31, 8, 48, 23, 39, 60, 62, 56, 49, 25, 63, 3, 7, 38, 17, 40, 37, 15, 58, 21, 36, 5, 1, 55, 29, 30, 50, 35, 52, 41, 22, 9, 18, 46, 16, 61, 4] with cost 855 in 43.8762 seconds\n",
      "GBFS h2 found solution for [26, 52, 63, 50, 15, 36, 4, 3, 19, 7, 11, 54, 21, 48, 30, 17, 6, 29, 55, 10, 40, 58, 31, 12, 62, 28, 22, 59, 53, 33, 34, 41, 1, 13, 37, 2, 61, 56, 57, 25, 45, 46, 14, 24, 49, 9, 42, 44, 27, 0, 5, 51, 16, 20, 35, 18, 60, 23, 47, 43, 32, 38, 39, 8] with cost 1086 in 100.61164 seconds\n",
      "GBFS h2 found solution for [58, 47, 33, 25, 30, 34, 24, 32, 59, 8, 5, 20, 40, 36, 46, 52, 18, 39, 57, 62, 21, 29, 35, 13, 44, 26, 7, 61, 3, 17, 12, 6, 41, 54, 14, 22, 56, 37, 1, 2, 45, 27, 0, 60, 49, 63, 11, 4, 19, 28, 31, 51, 16, 53, 38, 9, 10, 42, 48, 43, 23, 15, 55, 50] with cost 1056 in 595.64228 seconds\n",
      "GBFS h2 found solution for [60, 39, 2, 49, 15, 20, 9, 13, 3, 16, 11, 62, 30, 36, 43, 41, 21, 40, 33, 54, 18, 50, 31, 34, 53, 46, 45, 61, 23, 44, 19, 28, 0, 58, 57, 63, 47, 6, 4, 42, 38, 55, 56, 7, 22, 29, 5, 52, 14, 24, 1, 48, 26, 17, 32, 10, 59, 37, 35, 51, 27, 8, 25, 12] with cost 1016 in 166.7172 seconds\n",
      "GBFS h2 found solution for [42, 58, 34, 10, 22, 33, 44, 35, 30, 8, 28, 13, 49, 9, 40, 7, 5, 4, 26, 31, 19, 29, 57, 24, 14, 3, 18, 62, 1, 52, 41, 63, 36, 23, 37, 11, 21, 51, 43, 45, 16, 48, 17, 60, 46, 56, 55, 20, 38, 39, 32, 0, 61, 25, 47, 50, 53, 15, 12, 27, 54, 2, 59, 6] with cost 1097 in 43.68384 seconds\n",
      "GBFS h2 found solution for [24, 36, 0, 29, 56, 55, 19, 2, 53, 52, 25, 41, 6, 46, 39, 22, 16, 35, 60, 7, 23, 9, 37, 44, 42, 1, 27, 43, 48, 5, 45, 40, 51, 12, 49, 38, 33, 15, 61, 10, 3, 4, 21, 32, 62, 18, 17, 59, 14, 47, 26, 13, 34, 54, 30, 63, 50, 57, 31, 58, 11, 20, 28, 8] with cost 821 in 16.82022 seconds\n",
      "ANALYSIS OF GBFS WITH H2\n",
      "\n",
      "Average length of solution path: 878.3\n",
      "Total length of solution path: 8783\n",
      "\n",
      "Average length of search path: 146033.1\n",
      "Total length of search path: 1460331\n",
      "\n",
      "Average cost: 1006.7\n",
      "Total cost: 10067\n",
      "\n",
      "Rate of no solution: 0.0\n",
      "Total number of no solution 0\n",
      "\n",
      "Average execution time: 165.54796\n",
      "Total execution time: 1655.47955\n"
     ]
    }
   ],
   "source": [
    "analyze(gbfs, scaled_8x8, 8, 8, h2, timeout=False)"
   ]
  },
  {
   "cell_type": "markdown",
   "metadata": {},
   "source": [
    "## Archive\n",
    "\n",
    "We decided to archive our original version of the UCS algorithm before optimizing it to show how we improved performance.\n",
    "\n",
    "We were able to increase the speed of the algorithm by a factor of 20 by eliminating the need to iterate over a list to find/remove items."
   ]
  },
  {
   "cell_type": "code",
   "execution_count": null,
   "metadata": {},
   "outputs": [],
   "source": [
    "# def ucs(puzzle, m, n):\n",
    "#     start = time.time()\n",
    "#     opened = []\n",
    "#     closed = []\n",
    "#     seq = 0\n",
    "    \n",
    "#     heappush(opened, UCSNode(puzzle, seq=seq))\n",
    "#     seq += 1\n",
    "\n",
    "#     while opened:\n",
    "#         if (time.time() - start > 60):\n",
    "#             print('UCS timed out after 60 seconds on puzzle', puzzle)\n",
    "#             return None, closed, 60\n",
    "        \n",
    "#         current = heappop(opened)\n",
    "#         closed.append(current)\n",
    "        \n",
    "#         if goal(current.state, m, n):\n",
    "#             t = round(time.time() - start, 5)\n",
    "#             print('UCS found solution for', puzzle, 'with cost', current.cost, 'in', t, 'seconds')\n",
    "#             return solution_path(current), closed, t\n",
    "        \n",
    "#         children = ucs_successor(current, m, n, seq)\n",
    "#         for i in children:\n",
    "#             seq += 1\n",
    "#             in_opened = False\n",
    "#             in_closed = False\n",
    "            \n",
    "#             for k in closed:\n",
    "#                 if i.state == k.state:\n",
    "#                     in_closed = True\n",
    "#                     break\n",
    "\n",
    "#             if in_closed:\n",
    "#                 continue\n",
    "                \n",
    "#             for j in opened:\n",
    "#                 if i.state == j.state:\n",
    "#                     if i < j:\n",
    "#                         opened.remove(j)\n",
    "#                         heapify(opened)\n",
    "#                         heappush(opened, i)\n",
    "#                     in_opened = True\n",
    "#                     break\n",
    "    \n",
    "#             if not in_opened:\n",
    "#                 heappush(opened, i)\n",
    "                \n",
    "#     t = round(time.time() - start, 5)\n",
    "#     print('UCS exhausted every path in', t, 'seconds without finding a solution')\n",
    "#     return None, closed, t\n",
    "\n",
    "# sol_path, search_path, t = ucs([3, 0, 1, 4, 2, 6, 5, 7], 2, 4)\n",
    "# print(len(sol_path))\n",
    "# print(len(search_path))\n",
    "\n",
    "# for i in sol_path:\n",
    "#     print(i.state, i.move, i.cost)"
   ]
  },
  {
   "cell_type": "markdown",
   "metadata": {},
   "source": [
    "<hr>\n",
    "\n",
    "## Demo"
   ]
  },
  {
   "cell_type": "code",
   "execution_count": null,
   "metadata": {},
   "outputs": [],
   "source": [
    "# demo_set = get_puzzle_set('file name')\n",
    "\n",
    "# solve_puzzle_set(demo_set, 2, 4, 'demo/output')"
   ]
  }
 ],
 "metadata": {
  "kernelspec": {
   "display_name": "Python 3",
   "language": "python",
   "name": "python3"
  },
  "language_info": {
   "codemirror_mode": {
    "name": "ipython",
    "version": 3
   },
   "file_extension": ".py",
   "mimetype": "text/x-python",
   "name": "python",
   "nbconvert_exporter": "python",
   "pygments_lexer": "ipython3",
   "version": "3.8.3"
  }
 },
 "nbformat": 4,
 "nbformat_minor": 4
}
